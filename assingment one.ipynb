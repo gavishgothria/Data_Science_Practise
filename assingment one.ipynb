{
 "cells": [
  {
   "cell_type": "code",
   "execution_count": 39,
   "metadata": {},
   "outputs": [
    {
     "name": "stdout",
     "output_type": "stream",
     "text": [
      "2002 , 2009 , 2016 , 2023 , 2037 , 2044 , 2051 , 2058 , 2072 , 2079 , 2086 , 2093 , 2107 , 2114 , 2121 , 2128 , 2142 , 2149 , 2156 , 2163 , 2177 , 2184 , 2191 , 2198 , 2212 , 2219 , 2226 , 2233 , 2247 , 2254 , 2261 , 2268 , 2282 , 2289 , 2296 , 2303 , 2317 , 2324 , 2331 , 2338 , 2352 , 2359 , 2366 , 2373 , 2387 , 2394 , 2401 , 2408 , 2422 , 2429 , 2436 , 2443 , 2457 , 2464 , 2471 , 2478 , 2492 , 2499 , 2506 , 2513 , 2527 , 2534 , 2541 , 2548 , 2562 , 2569 , 2576 , 2583 , 2597 , 2604 , 2611 , 2618 , 2632 , 2639 , 2646 , 2653 , 2667 , 2674 , 2681 , 2688 , 2702 , 2709 , 2716 , 2723 , 2737 , 2744 , 2751 , 2758 , 2772 , 2779 , 2786 , 2793 , 2807 , 2814 , 2821 , 2828 , 2842 , 2849 , 2856 , 2863 , 2877 , 2884 , 2891 , 2898 , 2912 , 2919 , 2926 , 2933 , 2947 , 2954 , 2961 , 2968 , 2982 , 2989 , 2996 , 3003 , 3017 , 3024 , 3031 , 3038 , 3052 , 3059 , 3066 , 3073 , 3087 , 3094 , 3101 , 3108 , 3122 , 3129 , 3136 , 3143 , 3157 , 3164 , 3171 , 3178 , 3192 , 3199 , "
     ]
    }
   ],
   "source": [
    "#TASK 1, Question = 2\n",
    "\n",
    "\n",
    "\"\"\" Write a program which will find all such numbers which are divisible by 7 but are\n",
    "not a multiple of 5, between 2000 and 3200 (both included). The numbers obtained should \n",
    "be printed in a comma-separated sequence on a single line.\"\"\"\n",
    "\n",
    "for i in range(2000,3201):\n",
    "    if i%7 == 0:\n",
    "        if i%5!=0:\n",
    "            print(i,',',end=\" \")\n",
    "        else:\n",
    "            i = i+1\n",
    "        \n",
    "    else:\n",
    "        i=i+1\n",
    "        \n",
    "    \n",
    "\n"
   ]
  },
  {
   "cell_type": "code",
   "execution_count": 40,
   "metadata": {},
   "outputs": [
    {
     "name": "stdout",
     "output_type": "stream",
     "text": [
      "first name : gacish\n",
      "last name : yasdsa\n",
      "hsicag asdsay\n"
     ]
    }
   ],
   "source": [
    "#TASK 1, Question = 3\n",
    "\n",
    "\"\"\"Write a Python program to accept the user's first and last name and then getting \n",
    "them printed in the the reverse order with a space between first name and last name.\"\"\"\n",
    "\n",
    "\n",
    "first = str(input('first name : '))\n",
    "last = str(input('last name : '))\n",
    "\n",
    "\n",
    "\n",
    "f_length = len(first)\n",
    "l_length = len(last)\n",
    "\n",
    "print(first[f_length::-1],last[l_length::-1])\n",
    "\n",
    "\n",
    "\n",
    "\n"
   ]
  },
  {
   "cell_type": "code",
   "execution_count": 41,
   "metadata": {},
   "outputs": [
    {
     "name": "stdout",
     "output_type": "stream",
     "text": [
      "904.7786842338603\n"
     ]
    }
   ],
   "source": [
    "#TASK 1, Question = 4\n",
    "\n",
    "\"\"\" Python code for volume of sphere\"\"\"\n",
    "\n",
    "import math\n",
    "\n",
    "diameter = 12\n",
    "\n",
    "volume = 4/3 *math.pi*(diameter/2)**3\n",
    "\n",
    "print(volume)\n",
    "\n"
   ]
  },
  {
   "cell_type": "code",
   "execution_count": 42,
   "metadata": {},
   "outputs": [
    {
     "name": "stdout",
     "output_type": "stream",
     "text": [
      "input some comma-seperated numbers\n",
      "213123,12,14,31434,321\n",
      "['213123,12,14,31434,321']\n"
     ]
    }
   ],
   "source": [
    "#TASK 2, Question = 1\n",
    "\n",
    "\n",
    "\"\"\"Write a program which accepts a sequence of comma-separated numbers from console and\n",
    "    generate a list\"\"\"\n",
    "    \n",
    "data = input('input some comma-seperated numbers\\n')\n",
    "m = []\n",
    "m.append(data)\n",
    "\n",
    "print(m)\n",
    "    \n"
   ]
  },
  {
   "cell_type": "code",
   "execution_count": 43,
   "metadata": {},
   "outputs": [
    {
     "name": "stdout",
     "output_type": "stream",
     "text": [
      "\n",
      "*\n",
      "**\n",
      "***\n",
      "****\n",
      "*****\n",
      "****\n",
      "***\n",
      "**\n",
      "*\n",
      "\n",
      "completed\n"
     ]
    }
   ],
   "source": [
    "# TASK 2 , Question = 2\n",
    "\n",
    "\"\"\"Create the given pattern\"\"\"\n",
    "\n",
    "n = '*'\n",
    "p = 7\n",
    "for i in range(p):\n",
    "    if i < 6:\n",
    "        print(n*i)\n",
    "    elif i == 6:\n",
    "        for i in range(1,6):\n",
    "            x = 5 - i\n",
    "            print(n*x)\n",
    "            \n",
    "            \n",
    "print('completed')\n",
    "\n",
    "\n",
    "            "
   ]
  },
  {
   "cell_type": "code",
   "execution_count": 26,
   "metadata": {},
   "outputs": [
    {
     "name": "stdout",
     "output_type": "stream",
     "text": [
      "AcadGild\n",
      "dliGdacA\n"
     ]
    }
   ],
   "source": [
    "# TASK 2 Question 3\n",
    "\n",
    "\"\"\"Python code to reverse a word after accepting the input from the user\"\"\"\n",
    "\n",
    "sample = input()\n",
    "\n",
    "word = len(sample)\n",
    "\n",
    "print(sample[ ::-1])\n",
    "\n",
    "\n",
    "\n",
    "\n",
    "\n"
   ]
  },
  {
   "cell_type": "code",
   "execution_count": 38,
   "metadata": {},
   "outputs": [
    {
     "name": "stdout",
     "output_type": "stream",
     "text": [
      "WE, THE PEOPLE OF INDIA,\n",
      "     having solemnly resolved to constitute India into a SOVEREIGN,!\n",
      "         SOCIALIST, SECULAR, DEMOCRATIC REPUBLIC\n",
      "          and to secure to all its citizens\n"
     ]
    }
   ],
   "source": [
    "#TASK 2 Question 4\n",
    "\n",
    "\"\"\"Write a Python Program to print the given string in the format specified in the sample output.\n",
    "WE, THE PEOPLE OF INDIA, having solemnly resolved to constitute India into a\n",
    "SOVEREIGN, SOCIALIST, SECULAR, DEMOCRATIC REPUBLIC and to secure to all\n",
    "its citizens\"\"\"\n",
    "\n",
    "\n",
    "print('WE, THE PEOPLE OF INDIA,\\n','    having solemnly resolved to constitute India into a SOVEREIGN,!\\n','        SOCIALIST, SECULAR, DEMOCRATIC REPUBLIC\\n','         and to secure to all its citizens')"
   ]
  },
  {
   "cell_type": "code",
   "execution_count": null,
   "metadata": {},
   "outputs": [],
   "source": [
    "\n"
   ]
  },
  {
   "cell_type": "code",
   "execution_count": null,
   "metadata": {},
   "outputs": [],
   "source": []
  }
 ],
 "metadata": {
  "kernelspec": {
   "display_name": "Python 3",
   "language": "python",
   "name": "python3"
  }
 },
 "nbformat": 4,
 "nbformat_minor": 4
}
