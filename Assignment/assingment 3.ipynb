{
 "cells": [
  {
   "cell_type": "code",
   "execution_count": 1,
   "metadata": {},
   "outputs": [
    {
     "data": {
      "text/plain": [
       "60"
      ]
     },
     "execution_count": 1,
     "metadata": {},
     "output_type": "execute_result"
    }
   ],
   "source": [
    "# 1.1 Write a Python Program to implement your own myreduce() function which works exactly like Python's built-in funtion reduce()\n",
    "\n",
    "def myreduce(func,lst):\n",
    "    output = lst[0]\n",
    "    for i in lst[1:]:\n",
    "        output = func(output,i)\n",
    "    return output\n",
    "\n",
    "\n",
    "def add(x,y):\n",
    "    return x+y\n",
    "\n",
    "lst = [10,20,30]\n",
    "\n",
    "myreduce(add,lst)"
   ]
  },
  {
   "cell_type": "code",
   "execution_count": 2,
   "metadata": {},
   "outputs": [
    {
     "data": {
      "text/plain": [
       "[10, 24]"
      ]
     },
     "execution_count": 2,
     "metadata": {},
     "output_type": "execute_result"
    }
   ],
   "source": [
    "# 1.2 Write a Python program to implement your own myfilter() funciton which works exactly like python's built-in funcitons filter()\n",
    "\n",
    "def myfilter(func,lst1):\n",
    "    return func(lst1)   \n",
    "    \n",
    "def even(num):\n",
    "    e = []\n",
    "    for i in num:\n",
    "        if i%2==0:\n",
    "            e.append(i)\n",
    "    return e    \n",
    "    \n",
    "lst1 = [10,21,24,25,543]\n",
    "\n",
    "myfilter(even,lst1)\n"
   ]
  },
  {
   "cell_type": "code",
   "execution_count": 3,
   "metadata": {},
   "outputs": [
    {
     "name": "stdout",
     "output_type": "stream",
     "text": [
      "1): ['x', 'y', 'z', 'xx', 'yy', 'zz', 'xxx', 'yyy', 'zzz', 'xxxx', 'yyyy', 'zzzz']\n",
      " \n",
      "2): ['x', 'xx', 'xxx', 'xxxx', 'y', 'yy', 'yyy', 'yyyy', 'z', 'zz', 'zzz', 'zzzz']\n",
      " \n",
      "3): [[[2], [3], [4], [3], [4], [5], [4], [5], [6]], [[2, 3, 4, 5], [3, 4, 5, 6], [4, 5, 6, 7], [5, 6, 7, 8]]]\n",
      " \n",
      "4): [(1, 1), (2, 1), (3, 1), (1, 2), (2, 2), (3, 2), (1, 3), (2, 3), (3, 3)]\n"
     ]
    }
   ],
   "source": [
    "# 2 Implement List comprehensions to produce the following lists.\n",
    "\n",
    "# 1) ['x', 'xx', 'xxx', 'xxxx', 'y', 'yy', 'yyy', 'yyyy', 'z', 'zz', 'zzz', 'zzzz']\n",
    "# 2) ['x', 'y', 'z', 'xx', 'yy', 'zz', 'xxx', 'yyy', 'zzz', 'xxxx', 'yyyy', 'zzzz']\n",
    "# 3) [[2], [3], [4], [3], [4], [5], [4], [5], [6]] [[2, 3, 4, 5], [3, 4, 5, 6],[4, 5, 6, 7], [5, 6, 7, 8]]\n",
    "# 4) [(1, 1), (2, 1), (3, 1), (1, 2), (2, 2), (3, 2), (1, 3), (2, 3), (3, 3)]\n",
    "      \n",
    "one = [a*i for i in range(1,5) for a in \"xyz\"]\n",
    "two = [a*i for a in \"xyz\" for i in range(1,5)]\n",
    "three = [[[a] for i in range(2,5) for a in range(i,i+3)],[[a for a in range(i,i+4)] for i in range(2,6)]]\n",
    "four = [(a,b) for b in range(1,4) for a in range(1,4)] \n",
    "\n",
    "print(\"1): %s\"%(one))\n",
    "print(\" \")\n",
    "print(\"2): %s\"%(two))\n",
    "print(\" \")\n",
    "print(f\"3): {three}\")\n",
    "print(\" \")\n",
    "print(\"4): %s\"%(four))\n"
   ]
  },
  {
   "cell_type": "code",
   "execution_count": null,
   "metadata": {},
   "outputs": [],
   "source": []
  }
 ],
 "metadata": {
  "kernelspec": {
   "display_name": "Python 3",
   "language": "python",
   "name": "python3"
  },
  "language_info": {
   "codemirror_mode": {
    "name": "ipython",
    "version": 3
   },
   "file_extension": ".py",
   "mimetype": "text/x-python",
   "name": "python",
   "nbconvert_exporter": "python",
   "pygments_lexer": "ipython3",
   "version": "3.8.3"
  }
 },
 "nbformat": 4,
 "nbformat_minor": 4
}
