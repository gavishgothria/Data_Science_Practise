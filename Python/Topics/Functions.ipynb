{
 "cells": [
  {
   "cell_type": "markdown",
   "metadata": {},
   "source": [
    "**Question**: Write a function called calculate that accepts a list of **keyword arguments**\n",
    "\n",
    "* `make_float`, a boolean which returns a float if True or an integer if False.\n",
    "* `operation` which is either 'add','substract',multiply' and 'divide'.\n",
    "* `first` which is a number, `second` which is another number, and `message` which is a string that can be added.\n",
    "\n",
    "The function should return the result of actually running the specified operation with the `first` and `second` is an interger if second keyword arguments. The result of the operation with the `first` and `second` is an integer if the `make_float` keyword argument is `false`, otherwise the result of the operation is a float. If a message is specified, it should return the message keyword argument+ the result of the operation.\n",
    "Otherwise, it should return the string \"The result is \" joined with the result of the operation.\n",
    "    \n",
    "See the **example** below for some more information.\n",
    "\n",
    "**input** calculate(make_float=False, operation='add', message='You just added', first=2, second=4) \n",
    "**Output** \"You just added 6\"\n",
    "\n",
    "**input** calculate(make_float=True, operation='divide', first=3.5, second=5) **Output** \"The result is 0.7\"\n"
   ]
  },
  {
   "cell_type": "code",
   "execution_count": 1,
   "metadata": {},
   "outputs": [
    {
     "data": {
      "text/plain": [
       "'The result is , 6.0'"
      ]
     },
     "execution_count": 1,
     "metadata": {},
     "output_type": "execute_result"
    }
   ],
   "source": [
    "\n",
    "def calculate(**kwarg):\n",
    "    ops= {\n",
    "        'add':kwarg.get('first',0) + kwarg.get('second',0),\n",
    "        'substract':kwarg.get('first',0) - kwarg.get('second',0),\n",
    "        'divide':kwarg.get('first',0) / kwarg.get('second',0),\n",
    "        'multiply':kwarg.get('first',0) * kwarg.get('second',0)\n",
    "    }\n",
    "    \n",
    "    is_float=kwarg.get('make_float',False)\n",
    "    \n",
    "    ops_value= ops[kwarg.get('operation','')]\n",
    "    \n",
    "    if is_float:\n",
    "        return f\"{kwarg.get('message','The result is ')}, {float(ops_value)}\"\n",
    "        \n",
    "    else:\n",
    "        return f\"{kwarg.get('message','The result is ')}, {int(ops_value)}\"\n",
    "    \n",
    "    \n",
    "calculate(make_float=True, operation='add', first=2, second=4)"
   ]
  },
  {
   "cell_type": "code",
   "execution_count": null,
   "metadata": {},
   "outputs": [],
   "source": []
  }
 ],
 "metadata": {
  "kernelspec": {
   "display_name": "Python 3",
   "language": "python",
   "name": "python3"
  },
  "language_info": {
   "codemirror_mode": {
    "name": "ipython",
    "version": 3
   },
   "file_extension": ".py",
   "mimetype": "text/x-python",
   "name": "python",
   "nbconvert_exporter": "python",
   "pygments_lexer": "ipython3",
   "version": "3.8.3"
  }
 },
 "nbformat": 4,
 "nbformat_minor": 4
}
