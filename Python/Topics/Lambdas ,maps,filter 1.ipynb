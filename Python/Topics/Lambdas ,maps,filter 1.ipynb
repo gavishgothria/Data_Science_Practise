{
 "cells": [
  {
   "cell_type": "code",
   "execution_count": 1,
   "metadata": {},
   "outputs": [
    {
     "data": {
      "text/plain": [
       "81"
      ]
     },
     "execution_count": 1,
     "metadata": {},
     "output_type": "execute_result"
    }
   ],
   "source": [
    "# :Lambda\n",
    "def square(num):\n",
    "    return num *num\n",
    "\n",
    "square(9)\n",
    "\n",
    "\n",
    "square2 = lambda num: num*num\n",
    "\n",
    "square2(9)"
   ]
  },
  {
   "cell_type": "code",
   "execution_count": 2,
   "metadata": {},
   "outputs": [
    {
     "name": "stdout",
     "output_type": "stream",
     "text": [
      "square\n",
      "<lambda>\n"
     ]
    }
   ],
   "source": [
    "add = lambda a,b : a+b\n",
    "\n",
    "add(3,10)\n",
    "\n",
    "print(square.__name__)\n",
    "print(square2.__name__)"
   ]
  },
  {
   "cell_type": "code",
   "execution_count": 3,
   "metadata": {},
   "outputs": [],
   "source": [
    "#Maps\n",
    "nums = [2,4,6,8,10]\n",
    "\n",
    "doubles = list(map(lambda x: x*2 , nums))\n",
    "\n",
    "\n",
    "    \n"
   ]
  },
  {
   "cell_type": "code",
   "execution_count": 4,
   "metadata": {},
   "outputs": [
    {
     "data": {
      "text/plain": [
       "['DARCY', 'CHRISTINA', 'DANA', 'ANNABEL']"
      ]
     },
     "execution_count": 4,
     "metadata": {},
     "output_type": "execute_result"
    }
   ],
   "source": [
    "people= [\"Darcy\",'Christina','Dana',\"Annabel\"]\n",
    "\n",
    "peeps = map(lambda name:name.upper(),people)\n",
    "\n",
    "list(peeps)"
   ]
  },
  {
   "cell_type": "code",
   "execution_count": 5,
   "metadata": {},
   "outputs": [
    {
     "data": {
      "text/plain": [
       "['Russty', 'Colt', 'Blue']"
      ]
     },
     "execution_count": 5,
     "metadata": {},
     "output_type": "execute_result"
    }
   ],
   "source": [
    "names = [\n",
    "    {'first':'Russty','last':'Steele'},\n",
    "    {'first':'Colt','last':'Steele'},\n",
    "    {'first':'Blue','last':'Steele'}\n",
    "]\n",
    "\n",
    "first_names=list(map(lambda x: x['first'],names))\n",
    "first_names\n",
    "\n",
    "\n"
   ]
  },
  {
   "cell_type": "code",
   "execution_count": 6,
   "metadata": {},
   "outputs": [
    {
     "data": {
      "text/plain": [
       "[0, 1, 2]"
      ]
     },
     "execution_count": 6,
     "metadata": {},
     "output_type": "execute_result"
    }
   ],
   "source": [
    "\n",
    "\n",
    "\n",
    "\n",
    "def decrement_list(a):\n",
    "    return list(map(lambda n:n-1,a))\n",
    "\n",
    "decrement_list([1,2,3])"
   ]
  },
  {
   "cell_type": "code",
   "execution_count": 7,
   "metadata": {},
   "outputs": [
    {
     "data": {
      "text/plain": [
       "[2, 4]"
      ]
     },
     "execution_count": 7,
     "metadata": {},
     "output_type": "execute_result"
    }
   ],
   "source": [
    "#Filter\n",
    "\n",
    "l = [1,2,3,4]\n",
    "\n",
    "evens= list(filter(lambda x:x%2 ==0,l))\n",
    "evens"
   ]
  },
  {
   "cell_type": "code",
   "execution_count": 8,
   "metadata": {},
   "outputs": [
    {
     "data": {
      "text/plain": [
       "[{'first': 'Russty', 'last': 'Steele'},\n",
       " {'first': 'Colt', 'last': 'Steele'},\n",
       " {'first': 'Blue', 'last': 'Steele'}]"
      ]
     },
     "execution_count": 8,
     "metadata": {},
     "output_type": "execute_result"
    }
   ],
   "source": [
    "name_5= list(filter(lambda a:len(a)<6,names))\n",
    "name_5\n"
   ]
  },
  {
   "cell_type": "code",
   "execution_count": 9,
   "metadata": {},
   "outputs": [
    {
     "data": {
      "text/plain": [
       "[{'first': 'Russty', 'last': 'Steele'},\n",
       " {'first': 'Colt', 'last': 'Steele'},\n",
       " {'first': 'Blue', 'last': 'Steele'}]"
      ]
     },
     "execution_count": 9,
     "metadata": {},
     "output_type": "execute_result"
    }
   ],
   "source": [
    "names"
   ]
  },
  {
   "cell_type": "code",
   "execution_count": 10,
   "metadata": {},
   "outputs": [],
   "source": [
    "def remove_negatives(a):\n",
    "    return list(filter(lambda r: r>-1, a))"
   ]
  },
  {
   "cell_type": "code",
   "execution_count": null,
   "metadata": {},
   "outputs": [],
   "source": []
  },
  {
   "cell_type": "code",
   "execution_count": 11,
   "metadata": {},
   "outputs": [
    {
     "data": {
      "text/plain": [
       "False"
      ]
     },
     "execution_count": 11,
     "metadata": {},
     "output_type": "execute_result"
    }
   ],
   "source": [
    "#ALL  - if all are true only then returns True \n",
    "nums = [2,53,23,13,43]\n",
    "all([num%2 ==0 for num in nums])"
   ]
  },
  {
   "cell_type": "code",
   "execution_count": 12,
   "metadata": {},
   "outputs": [
    {
     "data": {
      "text/plain": [
       "True"
      ]
     },
     "execution_count": 12,
     "metadata": {},
     "output_type": "execute_result"
    }
   ],
   "source": [
    "#any - if any situation is true then it will return true\n",
    "\n",
    "any([num%2==0 for num in nums])\n"
   ]
  },
  {
   "cell_type": "code",
   "execution_count": 13,
   "metadata": {},
   "outputs": [],
   "source": [
    "people = ['Charlie','Casey','Cody','Carly','Cristina']"
   ]
  },
  {
   "cell_type": "code",
   "execution_count": 14,
   "metadata": {},
   "outputs": [
    {
     "data": {
      "text/plain": [
       "True"
      ]
     },
     "execution_count": 14,
     "metadata": {},
     "output_type": "execute_result"
    }
   ],
   "source": [
    "any(num %2==0 for num in nums)"
   ]
  },
  {
   "cell_type": "code",
   "execution_count": 15,
   "metadata": {},
   "outputs": [
    {
     "data": {
      "text/plain": [
       "True"
      ]
     },
     "execution_count": 15,
     "metadata": {},
     "output_type": "execute_result"
    }
   ],
   "source": [
    "all(name[0]=='C' for name in people)"
   ]
  }
 ],
 "metadata": {
  "kernelspec": {
   "display_name": "Python 3",
   "language": "python",
   "name": "python3"
  },
  "language_info": {
   "codemirror_mode": {
    "name": "ipython",
    "version": 3
   },
   "file_extension": ".py",
   "mimetype": "text/x-python",
   "name": "python",
   "nbconvert_exporter": "python",
   "pygments_lexer": "ipython3",
   "version": "3.8.3"
  }
 },
 "nbformat": 4,
 "nbformat_minor": 4
}
