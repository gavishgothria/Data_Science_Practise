{
 "cells": [
  {
   "cell_type": "code",
   "execution_count": 1,
   "metadata": {},
   "outputs": [
    {
     "name": "stdout",
     "output_type": "stream",
     "text": [
      "\u001b[32m ____    _    ____  _ ____        _  ___  _  _______   _____  ___   ___   ___  \n",
      "|  _ \\  / \\  |  _ \\( ) ___|      | |/ _ \\| |/ / ____| |___ / / _ \\ / _ \\ / _ \\ \n",
      "| | | |/ _ \\ | | | |/\\___ \\   _  | | | | | ' /|  _|     |_ \\| | | | | | | | | |\n",
      "| |_| / ___ \\| |_| |  ___) | | |_| | |_| | . \\| |___   ___) | |_| | |_| | |_| |\n",
      "|____/_/   \\_\\____/  |____/   \\___/ \\___/|_|\\_\\_____| |____/ \\___/ \\___/ \\___/ \n",
      "                                                                               \n",
      "\u001b[0m\n",
      "What would you like to search for :  Office\n",
      "YOU GOT 2 JOKES FOR WORD : Office\n",
      "Now it your choice u want to see any random press 1 or for all press 2 \n",
      "2\n",
      "1 Somebody stole my Microsoft Office and they're going to pay - you have my Word.\n",
      "2 A police officer caught two kids playing with a firework and a car battery. He charged one and let the other one off.\n"
     ]
    }
   ],
   "source": [
    "#Practice for HTTP and API\n",
    "\n",
    "\"\"\"code for the using of dad jokes and creating search bar from it\"\"\"\n",
    "\n",
    "\n",
    "import requests\n",
    "from random import choice\n",
    "import pyfiglet\n",
    "from termcolor import colored\n",
    "\n",
    "top = pyfiglet.figlet_format(\"DAD'S JOKE 3000\")\n",
    "top = colored(top,color=\"green\")\n",
    "print(top)\n",
    "\n",
    "url=\"https://icanhazdadjoke.com/search\"\n",
    "user_input=input(\"What would you like to search for :  \")\n",
    "\n",
    "code= requests.get(\n",
    "    url,\n",
    "    headers={'Accept':\"application/json\"},\n",
    "    params={'term':user_input}\n",
    ").json()\n",
    "\n",
    "num_jokes=code[\"total_jokes\"]\n",
    "\n",
    "result= code['results']\n",
    "\n",
    "if num_jokes>1:\n",
    "    print(f\"YOU GOT {num_jokes} JOKES FOR WORD : {user_input}\")\n",
    "    select= int(input(\"Now it your choice u want to see any random press 1 or for all press 2 \\n\"))\n",
    "    if select==1:\n",
    "        rand=choice(code['results'])['joke']\n",
    "        print(rand)\n",
    "    elif select==2:\n",
    "        for i in range(0,num_jokes):\n",
    "            print(f\"{i+1} {code['results'][i]['joke']}\")\n",
    "            \n",
    "        \n",
    "    \n",
    "elif num_jokes==1:\n",
    "    print(f\"ONLY ONE JOKE FOUND FOR - {user_input} , and here it goes : -\")\n",
    "    print(code['results'][0]['joke'])\n",
    "\n",
    "else:\n",
    "    print(f\"SORRY !!!! NO JOKE FOUND FOR - {user_input}\")"
   ]
  },
  {
   "cell_type": "code",
   "execution_count": null,
   "metadata": {},
   "outputs": [],
   "source": []
  }
 ],
 "metadata": {
  "kernelspec": {
   "display_name": "Python 3",
   "language": "python",
   "name": "python3"
  },
  "language_info": {
   "codemirror_mode": {
    "name": "ipython",
    "version": 3
   },
   "file_extension": ".py",
   "mimetype": "text/x-python",
   "name": "python",
   "nbconvert_exporter": "python",
   "pygments_lexer": "ipython3",
   "version": "3.8.3"
  }
 },
 "nbformat": 4,
 "nbformat_minor": 4
}
