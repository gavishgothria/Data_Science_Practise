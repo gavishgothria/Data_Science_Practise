{
 "cells": [
  {
   "cell_type": "markdown",
   "metadata": {},
   "source": [
    "# Maintanace calorie Calculater"
   ]
  },
  {
   "cell_type": "code",
   "execution_count": 1,
   "metadata": {},
   "outputs": [
    {
     "name": "stdout",
     "output_type": "stream",
     "text": [
      "Gender male/female: male\n",
      "Please tell me your body weight(in Kgs): 95\n",
      "Age(in yrs): 27\n",
      "Height(in cms): 176\n",
      "2052.422\n",
      "Choose your activity factor:\n",
      "\n",
      " 1.SEDENTARY:\n",
      "\n",
      "   You word on a desk job and don't exercise \n",
      "\n",
      "\n",
      " 2.LIGHT ACTIVITY:\n",
      "\n",
      "   You work a desk job but do a bit of regular exercise.\n",
      "\n",
      "\n",
      " 3.MODERATE ACTIVITY:\n",
      "\n",
      "   You does a desk job but train like a MADMAN\n",
      "\n",
      "\n",
      " 4.VERY ACTIVE:\n",
      "\n",
      "   You train hard and you work on your feet a lot.\n",
      "\n",
      "\n",
      " 5. EXTRA ACTIVE:\n",
      "\n",
      "   You train hard and work a job that is physically intense in nature.\n",
      "\n",
      " \n",
      " (PLEASE GIVE THE SERIAL NUMERBER IN WHICH ACTIVITY FACTOR YOU FALL.\n",
      " !!!!!!!THANK YOU !!!!!!)\n",
      "1\n"
     ]
    },
    {
     "data": {
      "text/plain": [
       "2462.9064"
      ]
     },
     "execution_count": 1,
     "metadata": {},
     "output_type": "execute_result"
    }
   ],
   "source": [
    "def BMR():\n",
    "    gender= input(\"Gender male/female: \")\n",
    "    body_weight = int(input(\"Please tell me your body weight(in Kgs): \"))\n",
    "    age = int(input(\"Age(in yrs): \"))\n",
    "    height = int(input(\"Height(in cms): \"))\n",
    "    \n",
    "    if gender==\"male\":\n",
    "        bmr= 88.362+(13.397*body_weight)+(4.799*height)-(5.677*age)\n",
    "        return bmr\n",
    "    else:\n",
    "        bmr=447.593+(9.247 *body_weight)+(3.098*height)-(4.330*age)\n",
    "        return bmr\n",
    "\n",
    "\n",
    "def activity_factor():\n",
    "    bmr= BMR()\n",
    "    print(bmr)\n",
    "    active=int(input(\"Choose your activity factor:\\n\\n 1.SEDENTARY:\\n\\n   You word on a desk job and don't exercise \\n\\n\\n 2.LIGHT ACTIVITY:\\n\\n   You work a desk job but do a bit of regular exercise.\\n\\n\\n 3.MODERATE ACTIVITY:\\n\\n   You does a desk job but train like a MADMAN\\n\\n\\n 4.VERY ACTIVE:\\n\\n   You train hard and you work on your feet a lot.\\n\\n\\n 5. EXTRA ACTIVE:\\n\\n   You train hard and work a job that is physically intense in nature.\\n\\n \\n (PLEASE GIVE THE SERIAL NUMERBER IN WHICH ACTIVITY FACTOR YOU FALL.\\n !!!!!!!THANK YOU !!!!!!)\\n\"))\n",
    "    \n",
    "    if active==1:\n",
    "        new_bmr= bmr*1.2\n",
    "        return new_bmr\n",
    "    elif active==2:\n",
    "        new_bmr= bmr*1.375\n",
    "        return new_bmr\n",
    "    elif active==3:\n",
    "        new_bmr= bmr*1.55\n",
    "        return new_bmr\n",
    "    elif active==4:\n",
    "        new_bmr= bmr*1.725\n",
    "        return new_bmr\n",
    "    elif active==5:\n",
    "        new_bmr= bmr*1.9\n",
    "        return new_bmr\n",
    "activity_factor()"
   ]
  },
  {
   "cell_type": "code",
   "execution_count": null,
   "metadata": {},
   "outputs": [],
   "source": []
  }
 ],
 "metadata": {
  "kernelspec": {
   "display_name": "Python 3",
   "language": "python",
   "name": "python3"
  },
  "language_info": {
   "codemirror_mode": {
    "name": "ipython",
    "version": 3
   },
   "file_extension": ".py",
   "mimetype": "text/x-python",
   "name": "python",
   "nbconvert_exporter": "python",
   "pygments_lexer": "ipython3",
   "version": "3.8.3"
  }
 },
 "nbformat": 4,
 "nbformat_minor": 4
}
