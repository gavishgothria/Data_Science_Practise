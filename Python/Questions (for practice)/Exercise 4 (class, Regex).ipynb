{
 "cells": [
  {
   "cell_type": "markdown",
   "metadata": {},
   "source": [
    "### Regular Expression"
   ]
  },
  {
   "cell_type": "code",
   "execution_count": 2,
   "metadata": {},
   "outputs": [
    {
     "data": {
      "text/plain": [
       "'Found a Match!'"
      ]
     },
     "execution_count": 2,
     "metadata": {},
     "output_type": "execute_result"
    }
   ],
   "source": [
    "# 1. Write a Python program to find the sequences of one upper case letter followed by lower case letters.(here text_match is an function)\n",
    "\n",
    "import re\n",
    "def text_match(s):\n",
    "    if re.search(\"[A-Z][a-z]+\",s):\n",
    "        return \"Found a Match!\"\n",
    "    return \"Not matched!\"\n",
    "\n",
    "text_match(\"aab_Abbbc\")"
   ]
  },
  {
   "cell_type": "code",
   "execution_count": 8,
   "metadata": {},
   "outputs": [
    {
     "data": {
      "text/plain": [
       "'Found a Match!'"
      ]
     },
     "execution_count": 8,
     "metadata": {},
     "output_type": "execute_result"
    }
   ],
   "source": [
    "# 2. Write a Python program that matches a string that has an 'a' followed by anything, ending in 'b'.\n",
    "\n",
    "import re\n",
    "def text_match(s):\n",
    "    if re.search(\"^a[A-Za-z]*b$\",s):\n",
    "        return \"Found a Match!\"\n",
    "    return \"Not matched!\"\n",
    "\n",
    "text_match(\"aabbbbd\")\n",
    "text_match(\"aabAbbbc\")\n",
    "text_match(\"accddbbjjjb\")\n"
   ]
  },
  {
   "cell_type": "code",
   "execution_count": 7,
   "metadata": {},
   "outputs": [
    {
     "name": "stdout",
     "output_type": "stream",
     "text": [
      "Found a Match!\n",
      "Not Matched!\n"
     ]
    }
   ],
   "source": [
    "# 3. Write a Python program that matches a word containing 'z'.\n",
    " \n",
    "import re\n",
    "\n",
    "def text_match(s):\n",
    "    if re.search('z',s):\n",
    "        print(\"Found a Match!\")\n",
    "    else:\n",
    "        print(\"Not Matched!\")\n",
    "        \n",
    "        \n",
    "text_match(\"The quick brown fox jumps over the lazy dog.\")\n",
    "text_match(\"Python Exercise.\")"
   ]
  },
  {
   "cell_type": "code",
   "execution_count": 19,
   "metadata": {},
   "outputs": [
    {
     "name": "stdout",
     "output_type": "stream",
     "text": [
      "Not Matched!\n",
      "Fount a Match!\n"
     ]
    }
   ],
   "source": [
    "# 4. Write a Python program to match a string that contains only upper and lowercase letters, numbers, and underscores.\n",
    "\n",
    "import re\n",
    "\n",
    "def text_match(s):\n",
    "    if re.search(\"^[a-zA-Z0-9_]*$\",s):\n",
    "        print(\"Fount a Match!\")\n",
    "    else:\n",
    "        print(\"Not Matched!\")\n",
    "        \n",
    "text_match(\"The quick brown fox jumps over the lazy dog.\")\n",
    "text_match(\"Python_Exercise_1\")"
   ]
  },
  {
   "cell_type": "code",
   "execution_count": 4,
   "metadata": {},
   "outputs": [
    {
     "name": "stdout",
     "output_type": "stream",
     "text": [
      "['quick', 'brown', 'jumps']\n"
     ]
    }
   ],
   "source": [
    "# 5. Write a Python to find all five characters long word in a string\n",
    "\n",
    "import re\n",
    "\n",
    "def character_long(t):\n",
    "    x = re.findall(\"\\w{5}\",t)\n",
    "    print(x)\n",
    "    \n",
    "t = 'The quick brown fox jumps over the lazy dog.'\n",
    "\n",
    "character_long(t)"
   ]
  },
  {
   "cell_type": "markdown",
   "metadata": {},
   "source": [
    "### OOPs:"
   ]
  },
  {
   "cell_type": "code",
   "execution_count": 4,
   "metadata": {},
   "outputs": [
    {
     "data": {
      "text/plain": [
       "4"
      ]
     },
     "execution_count": 4,
     "metadata": {},
     "output_type": "execute_result"
    }
   ],
   "source": [
    "# 6. Write Python programing i.e. class py_solution to imiplement pow(x,n).\n",
    "\n",
    "\n",
    "class Py_solution:\n",
    "    def __init__(self):\n",
    "        pass\n",
    "        \n",
    "    def pow(self,a,b):\n",
    "        return a+b\n",
    "    \n",
    "Obj1 = Py_solution()\n",
    "Obj1.pow(2,2)"
   ]
  },
  {
   "cell_type": "code",
   "execution_count": 5,
   "metadata": {},
   "outputs": [],
   "source": [
    "# 7. Create a Vehicle class with max_speed and mileagae instance attributes\n",
    "\n",
    "class Vehicle:\n",
    "    def __init__(self,max_speed,mileage):\n",
    "        self.max_speed = max_speed\n",
    "        self.mileage = mileage\n",
    "        \n",
    "        "
   ]
  },
  {
   "cell_type": "code",
   "execution_count": 8,
   "metadata": {},
   "outputs": [
    {
     "data": {
      "text/plain": [
       "4"
      ]
     },
     "execution_count": 8,
     "metadata": {},
     "output_type": "execute_result"
    }
   ],
   "source": [
    "# 8. Write a Python class named Rectangle constructed by a length and width and a method which will compute the area of a rectangle.\n",
    "\n",
    "class Rectangle:\n",
    "    def __init__(self, length, width):\n",
    "        self.length = length\n",
    "        self.width = width\n",
    "    \n",
    "    def area(self):\n",
    "        return self.length*self.width\n",
    "    \n",
    "Obj1 = Rectangle(2,2)\n",
    "Obj1.area()\n",
    "    "
   ]
  },
  {
   "cell_type": "code",
   "execution_count": 12,
   "metadata": {},
   "outputs": [
    {
     "name": "stdout",
     "output_type": "stream",
     "text": [
      "The area of circle : 201.14285714285714\n",
      "The circumferance of the circle is 50.285714285714285\n"
     ]
    }
   ],
   "source": [
    "# 9.Write a Python class named Circle constructed by a radius and two methods which will compute the area and the perimeter of a circle.\n",
    "\n",
    "class Circle:\n",
    "    def __init__(self,radius):\n",
    "        self.radius = radius\n",
    "        \n",
    "    def area(self):\n",
    "        return (22/7)*self.radius**2\n",
    "    \n",
    "    def perimeter(self):\n",
    "        return 2*self.radius*22/7\n",
    "    \n",
    "\n",
    "NewCircle = Circle(8)\n",
    "print(f\"The area of circle : {NewCircle.area()}\")\n",
    "print(f\"The circumferance of the circle is {NewCircle.perimeter()}\")"
   ]
  },
  {
   "cell_type": "code",
   "execution_count": 13,
   "metadata": {},
   "outputs": [
    {
     "name": "stdout",
     "output_type": "stream",
     "text": [
      "Hello, my name is Ben\n"
     ]
    }
   ],
   "source": [
    "# 10. Create a type Person which has name as attribute and method to print the statement.\n",
    "\n",
    "class Person:\n",
    "    def __init__(self,name):\n",
    "        self.name = name\n",
    "        \n",
    "    def say_hi(self):\n",
    "        print(f\"Hello, my name is {self.name}\")\n",
    "        \n",
    "p = Person(\"Ben\")\n",
    "\n",
    "p.say_hi()\n"
   ]
  },
  {
   "cell_type": "code",
   "execution_count": null,
   "metadata": {},
   "outputs": [],
   "source": []
  }
 ],
 "metadata": {
  "kernelspec": {
   "display_name": "Python 3",
   "language": "python",
   "name": "python3"
  },
  "language_info": {
   "codemirror_mode": {
    "name": "ipython",
    "version": 3
   },
   "file_extension": ".py",
   "mimetype": "text/x-python",
   "name": "python",
   "nbconvert_exporter": "python",
   "pygments_lexer": "ipython3",
   "version": "3.8.3"
  }
 },
 "nbformat": 4,
 "nbformat_minor": 4
}
