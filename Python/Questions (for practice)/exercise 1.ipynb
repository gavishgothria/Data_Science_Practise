{
 "cells": [
  {
   "cell_type": "code",
   "execution_count": 1,
   "metadata": {},
   "outputs": [
    {
     "name": "stdout",
     "output_type": "stream",
     "text": [
      "Enter a number :  \n",
      "500\n",
      "The next 5 Prime numbers are: \n",
      "503 509 521 523 541 "
     ]
    }
   ],
   "source": [
    "# Give a number, Find the next 5 Prime numbers\n",
    "\n",
    "print(\"Enter a number :  \")\n",
    "x = int(input())\n",
    "print(\"The next 5 Prime numbers are: \")\n",
    "new = x+1\n",
    "total_prime = 0\n",
    "while total_prime<5:\n",
    "    for i in range(2,new//2):\n",
    "        if new % i==0:\n",
    "            new +=1\n",
    "            break\n",
    "    else:\n",
    "        print(new,end=' ')\n",
    "        total_prime+=1\n",
    "        new+=1"
   ]
  },
  {
   "cell_type": "code",
   "execution_count": 3,
   "metadata": {},
   "outputs": [
    {
     "name": "stdout",
     "output_type": "stream",
     "text": [
      "Enter the starting number: 550\n",
      "Enter the last number600\n",
      "557\n",
      "563\n",
      "569\n",
      "571\n",
      "577\n",
      "587\n",
      "593\n",
      "599\n"
     ]
    }
   ],
   "source": [
    "# For a range of input numbers from start to end print the prime numbers\n",
    "\n",
    "start = int(input(\"Enter the starting number: \"))\n",
    "last = int(input(\"Enter the last number\"))\n",
    "\n",
    "for s in range(start,last+1):\n",
    "    for l in range(2,s//2):\n",
    "        if s%l ==0:\n",
    "            break\n",
    "    else:\n",
    "        print(s)\n",
    "        "
   ]
  },
  {
   "cell_type": "code",
   "execution_count": 4,
   "metadata": {},
   "outputs": [
    {
     "name": "stdout",
     "output_type": "stream",
     "text": [
      "0\n",
      "1\n",
      "2\n",
      "3\n",
      "4\n",
      "5\n",
      "6\n",
      "7\n",
      "8\n",
      "9\n",
      "10\n"
     ]
    }
   ],
   "source": [
    "# 1. Print First 10 natural numbers using while loop\n",
    "\n",
    "i = 0\n",
    "while i <= 10:\n",
    "    print(i)\n",
    "    i+=1\n",
    "    "
   ]
  },
  {
   "cell_type": "code",
   "execution_count": 5,
   "metadata": {},
   "outputs": [
    {
     "name": "stdout",
     "output_type": "stream",
     "text": [
      " 1\n",
      " 1 2\n",
      " 1 2 3\n",
      " 1 2 3 4\n",
      " 1 2 3 4 5\n"
     ]
    }
   ],
   "source": [
    "#  Method 1\n",
    "# 2.Print the following pattern\n",
    "a = ''\n",
    "for i in range(1,6):\n",
    "    x = str(i)\n",
    "    a = a + \" \"+ x\n",
    "    print(a)"
   ]
  },
  {
   "cell_type": "code",
   "execution_count": 6,
   "metadata": {},
   "outputs": [
    {
     "name": "stdout",
     "output_type": "stream",
     "text": [
      "1  \n",
      "1 2  \n",
      "1 2 3  \n",
      "1 2 3 4  \n",
      "1 2 3 4 5  \n"
     ]
    }
   ],
   "source": [
    "# 2. Method 2\n",
    "\n",
    "for i in range(1,6):\n",
    "    for x in range(1,i+1):\n",
    "        print(x,end=\" \")\n",
    "    print(\" \")"
   ]
  },
  {
   "cell_type": "code",
   "execution_count": 7,
   "metadata": {},
   "outputs": [
    {
     "name": "stdout",
     "output_type": "stream",
     "text": [
      "Give a number\n",
      "5\n",
      "The sum of first 5 is : 15\n"
     ]
    }
   ],
   "source": [
    "# 3. Accept number from user and calculate the sum of all number between 1 and given number.\n",
    "\n",
    "print(\"Give a number\")\n",
    "num = int(input())\n",
    "x = 0\n",
    "for i in range(num+1):\n",
    "    x+=i\n",
    "\n",
    "print(f\"The sum of first {num} is : {x}\")\n"
   ]
  },
  {
   "cell_type": "code",
   "execution_count": 8,
   "metadata": {},
   "outputs": [
    {
     "name": "stdout",
     "output_type": "stream",
     "text": [
      "5\n",
      "Table of 5\n",
      "5\n",
      "10\n",
      "15\n",
      "20\n",
      "25\n",
      "30\n",
      "35\n",
      "40\n",
      "45\n",
      "50\n"
     ]
    }
   ],
   "source": [
    "# 4. Print multiplication table of given number\n",
    "\n",
    "num = int(input())\n",
    "print(f\"Table of {num}\")\n",
    "for i in range(1,11):    \n",
    "    print(i*num)"
   ]
  },
  {
   "cell_type": "code",
   "execution_count": 9,
   "metadata": {},
   "outputs": [
    {
     "name": "stdout",
     "output_type": "stream",
     "text": [
      "5 4 3 2 1 \n",
      "4 3 2 1 \n",
      "3 2 1 \n",
      "2 1 \n",
      "1 \n"
     ]
    }
   ],
   "source": [
    "# 5. Print the following pattern using for loop\n",
    "\"\"\"(Method 1)\"\"\"\n",
    "\n",
    "for i in range(1,6):\n",
    "    n = 6-i\n",
    "    for x in range(n):\n",
    "        result = n-x\n",
    "        print(result,end=\" \")\n",
    "    print('')    "
   ]
  },
  {
   "cell_type": "code",
   "execution_count": 10,
   "metadata": {},
   "outputs": [
    {
     "name": "stdout",
     "output_type": "stream",
     "text": [
      "5 4 3 2 1 \n",
      "4 3 2 1 \n",
      "3 2 1 \n",
      "2 1 \n",
      "1 \n"
     ]
    }
   ],
   "source": [
    "\"\"\"(Method 2)\"\"\"\n",
    "\n",
    "for a in range(5,0,-1):\n",
    "    for b in range(a,0,-1):\n",
    "        print(b,end=\" \")\n",
    "    print(\"\")"
   ]
  },
  {
   "cell_type": "code",
   "execution_count": 11,
   "metadata": {},
   "outputs": [
    {
     "name": "stdout",
     "output_type": "stream",
     "text": [
      "-10\n",
      "-9\n",
      "-8\n",
      "-7\n",
      "-6\n",
      "-5\n",
      "-4\n",
      "-3\n",
      "-2\n",
      "-1\n"
     ]
    }
   ],
   "source": [
    "# 6. Display -10 to -1 using FOR loop:\n",
    "\n",
    "for i in range(10):\n",
    "    x = i - 10\n",
    "    print(x)"
   ]
  },
  {
   "cell_type": "code",
   "execution_count": 12,
   "metadata": {},
   "outputs": [
    {
     "name": "stdout",
     "output_type": "stream",
     "text": [
      "Fibonacci Sequence:\n",
      "0 1 1 2 3 5 8 13 21 34 "
     ]
    }
   ],
   "source": [
    "# 7. Fibonacci series up to 10 terms\n",
    "\n",
    "print('Fibonacci Sequence:')\n",
    "\n",
    "a = 0\n",
    "b = 1\n",
    "print(a,b,end=\" \")\n",
    "for i in range(8):\n",
    "    c = a + b\n",
    "    print(c,end=\" \")\n",
    "    a = b\n",
    "    b = c"
   ]
  },
  {
   "cell_type": "code",
   "execution_count": 13,
   "metadata": {},
   "outputs": [
    {
     "name": "stdout",
     "output_type": "stream",
     "text": [
      "120\n"
     ]
    }
   ],
   "source": [
    "# 8. Write a loop to find the factorial of any number\n",
    "\n",
    "fac = 1\n",
    "for i in range(1,6):\n",
    "    fac = fac * i\n",
    "print(fac)"
   ]
  },
  {
   "cell_type": "code",
   "execution_count": 14,
   "metadata": {},
   "outputs": [
    {
     "name": "stdout",
     "output_type": "stream",
     "text": [
      "Current Number is : 1 and the cube is 1\n",
      "Current Number is : 2 and the cube is 8\n",
      "Current Number is : 3 and the cube is 27\n",
      "Current Number is : 4 and the cube is 64\n",
      "Current Number is : 5 and the cube is 125\n",
      "Current Number is : 6 and the cube is 216\n"
     ]
    }
   ],
   "source": [
    "# 9. Display the cube of the number up to given integer\n",
    "\n",
    "input_number = 6\n",
    "\n",
    "for cube in range(1,input_number+1):\n",
    "    print(f\"Current Number is : {cube} and the cube is {cube**3}\")\n",
    "    "
   ]
  },
  {
   "cell_type": "code",
   "execution_count": 15,
   "metadata": {},
   "outputs": [
    {
     "name": "stdout",
     "output_type": "stream",
     "text": [
      "246910\n"
     ]
    }
   ],
   "source": [
    "# 10. Find the sum of the series 2 + 22 + 222 + 2222 + .....n\n",
    "\n",
    "number_of_terms = 5\n",
    "two = 2\n",
    "total = 0\n",
    "for i in range(1,number_of_terms+1):\n",
    "    two = two + 2*10**i\n",
    "    total = two + total\n",
    "print(total)"
   ]
  },
  {
   "cell_type": "code",
   "execution_count": 16,
   "metadata": {},
   "outputs": [
    {
     "name": "stdout",
     "output_type": "stream",
     "text": [
      "*\n",
      "**\n",
      "***\n",
      "****\n",
      "*****\n",
      "****\n",
      "***\n",
      "**\n",
      "*\n"
     ]
    }
   ],
   "source": [
    "# 11. Print the following pattern\n",
    "\n",
    "for i in range(1,6):\n",
    "    print(\"*\"*i)\n",
    "    \n",
    "for n in range(4,0,-1):\n",
    "    print(\"*\"*n)\n",
    "    "
   ]
  },
  {
   "cell_type": "code",
   "execution_count": 17,
   "metadata": {},
   "outputs": [
    {
     "name": "stdout",
     "output_type": "stream",
     "text": [
      "Income tax on $45000 is : $6000.0\n"
     ]
    }
   ],
   "source": [
    "# 12. Calculate income tax for the given income by adhering to the below rules\n",
    "i = 45000\n",
    "first = 10000\n",
    "second = i - 10000\n",
    "third = i - 20000\n",
    "if i>10000:\n",
    "    if i <= 20000:\n",
    "        tax = (i-10000)*0.10\n",
    "        print(f\"Income tax on {i} is : {tax}\")\n",
    "    else:\n",
    "        tax = third*0.20 + (i-(third+10000))*0.10\n",
    "        print(f\"Income tax on ${i} is : ${tax}\")\n",
    "        \n",
    "else:\n",
    "    print(f\"Income tax on ${i} is : $0\")"
   ]
  },
  {
   "cell_type": "code",
   "execution_count": 18,
   "metadata": {},
   "outputs": [
    {
     "name": "stdout",
     "output_type": "stream",
     "text": [
      "1 2 3 4 5 6 7 8 9 10 \n",
      "2 4 6 8 10 12 14 16 18 20 \n",
      "3 6 9 12 15 18 21 24 27 30 \n",
      "4 8 12 16 20 24 28 32 36 40 \n",
      "5 10 15 20 25 30 35 40 45 50 \n",
      "6 12 18 24 30 36 42 48 54 60 \n",
      "7 14 21 28 35 42 49 56 63 70 \n",
      "8 16 24 32 40 48 56 64 72 80 \n",
      "9 18 27 36 45 54 63 72 81 90 \n",
      "10 20 30 40 50 60 70 80 90 100 \n"
     ]
    }
   ],
   "source": [
    "# 13. Print multiplication table from 1 to 10.\n",
    "\n",
    "for t in range(1,11):\n",
    "    for m in range(1,11):\n",
    "        print(m*t,end=\" \")\n",
    "    print(\"\")"
   ]
  },
  {
   "cell_type": "code",
   "execution_count": 19,
   "metadata": {},
   "outputs": [
    {
     "name": "stdout",
     "output_type": "stream",
     "text": [
      "*****\n",
      "****\n",
      "***\n",
      "**\n",
      "*\n"
     ]
    }
   ],
   "source": [
    "# 14. Print downward Half-Pyramid Pattern with Star (asterisk)\n",
    "for i in range(5,0,-1):\n",
    "    print(\"*\"*i)"
   ]
  },
  {
   "cell_type": "code",
   "execution_count": 20,
   "metadata": {},
   "outputs": [
    {
     "name": "stdout",
     "output_type": "stream",
     "text": [
      "1 \n",
      "2 2 \n",
      "3 3 3 \n",
      "4 4 4 4 \n",
      "5 5 5 5 5 \n"
     ]
    }
   ],
   "source": [
    "# 15. Print the following pattern\n",
    "\n",
    "for i in range(1,6):\n",
    "    for x in range(i):\n",
    "        print(i,end=\" \")\n",
    "    print(\"\")    \n",
    "    "
   ]
  },
  {
   "cell_type": "code",
   "execution_count": null,
   "metadata": {},
   "outputs": [],
   "source": []
  }
 ],
 "metadata": {
  "kernelspec": {
   "display_name": "Python 3",
   "language": "python",
   "name": "python3"
  },
  "language_info": {
   "codemirror_mode": {
    "name": "ipython",
    "version": 3
   },
   "file_extension": ".py",
   "mimetype": "text/x-python",
   "name": "python",
   "nbconvert_exporter": "python",
   "pygments_lexer": "ipython3",
   "version": "3.8.3"
  }
 },
 "nbformat": 4,
 "nbformat_minor": 4
}
