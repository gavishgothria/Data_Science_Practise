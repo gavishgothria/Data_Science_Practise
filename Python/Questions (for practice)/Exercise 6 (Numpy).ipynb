{
 "cells": [
  {
   "cell_type": "markdown",
   "metadata": {},
   "source": [
    "### Essential Imports"
   ]
  },
  {
   "cell_type": "code",
   "execution_count": 1,
   "metadata": {},
   "outputs": [],
   "source": [
    "import pandas as pd\n",
    "import numpy as np\n",
    "from numpy.random import randn as rn"
   ]
  },
  {
   "cell_type": "markdown",
   "metadata": {},
   "source": [
    "**Question 1:**\n",
    "\n",
    "\n",
    "Create a 4X2 integer array and Prints its attributes\n",
    "Note: The element must be a type of unsigned int16. And print the following Attributes:\n",
    "–\n",
    "The shape of an array.\n",
    "Array dimensions.\n",
    "The Length of each element of the array in bytes."
   ]
  },
  {
   "cell_type": "code",
   "execution_count": 2,
   "metadata": {},
   "outputs": [
    {
     "name": "stdout",
     "output_type": "stream",
     "text": [
      "[[0 1]\n",
      " [0 0]\n",
      " [0 0]\n",
      " [1 0]]\n",
      "\n",
      "The shape of an array\n",
      "----------------------------------------\n",
      "(4, 2)\n",
      "\n",
      "Array dimensions\n",
      "----------------------------------------\n",
      "2\n",
      "\n",
      "The length of each element of the array in bytes\n",
      "----------------------------------------\n",
      "8\n"
     ]
    }
   ],
   "source": [
    "# imported randn as rn\n",
    "a = rn(4,2)\n",
    "new_arr = a.astype('int16')\n",
    "print(new_arr)\n",
    "print(\"\\nThe shape of an array\",\"-\"*40,new_arr.shape,\"\\nArray dimensions\",\"-\"*40,new_arr.ndim,\"\\nThe length of each element of the array in bytes\",\"-\"*40,new_arr.size,sep=\"\\n\")"
   ]
  },
  {
   "cell_type": "markdown",
   "metadata": {},
   "source": [
    "**Question 2:**\n",
    "\n",
    "Create a 5X2 integer array from a range between 100 to 200 such that the\n",
    "difference between each element is 10."
   ]
  },
  {
   "cell_type": "code",
   "execution_count": 3,
   "metadata": {},
   "outputs": [
    {
     "data": {
      "text/plain": [
       "array([[100, 110],\n",
       "       [120, 130],\n",
       "       [140, 150],\n",
       "       [160, 170],\n",
       "       [180, 190]])"
      ]
     },
     "execution_count": 3,
     "metadata": {},
     "output_type": "execute_result"
    }
   ],
   "source": [
    "arr = np.arange(100,200,10)\n",
    "arr.reshape(5,2)"
   ]
  },
  {
   "cell_type": "markdown",
   "metadata": {},
   "source": [
    "**Question 3:**\n",
    "\n",
    "Following is the provided numPy array. return array of items in the third column\n",
    "from all rows\n",
    "import numpy\n",
    "sampleArray = numpy.array([[11 ,22, 33], [44, 55, 66], [77, 88, 99]])"
   ]
  },
  {
   "cell_type": "code",
   "execution_count": 4,
   "metadata": {},
   "outputs": [
    {
     "data": {
      "text/plain": [
       "array([[11, 22, 33],\n",
       "       [44, 55, 66],\n",
       "       [77, 88, 99]])"
      ]
     },
     "execution_count": 4,
     "metadata": {},
     "output_type": "execute_result"
    }
   ],
   "source": [
    "sampleArray = np.array([[11 ,22, 33], [44, 55, 66], [77, 88, 99]])\n",
    "sampleArray"
   ]
  },
  {
   "cell_type": "code",
   "execution_count": 5,
   "metadata": {},
   "outputs": [
    {
     "data": {
      "text/plain": [
       "array([33, 66, 99])"
      ]
     },
     "execution_count": 5,
     "metadata": {},
     "output_type": "execute_result"
    }
   ],
   "source": [
    "sampleArray[:,-1]"
   ]
  },
  {
   "cell_type": "markdown",
   "metadata": {},
   "source": [
    "**Question 4:**\n",
    "\n",
    "Following is the given numpy array return array of odd rows and even columns\n",
    "import numpy..........\n",
    "sampleArray = numpy.array([[3 ,6, 9, 12], [15 ,18, 21, 24],\n",
    "[27 ,30, 33, 36], [39 ,42, 45, 48], [51 ,54, 57, 60]])\n",
    "\n",
    "\n",
    "Expected Output:\n",
    "Printing Input Array\n",
    "[[ 3 6 9 12]\n",
    "[15 18 21 24]\n",
    "\n",
    "[27 30 33 36]\n",
    "[39 42 45 48]\n",
    "[51 54 57 60]]\n",
    "\n",
    "\n",
    "Printing array of odd rows and even columns\n",
    "[[ 6 12]\n",
    "[30 36]\n",
    "[54 60]]"
   ]
  },
  {
   "cell_type": "code",
   "execution_count": 6,
   "metadata": {},
   "outputs": [
    {
     "name": "stdout",
     "output_type": "stream",
     "text": [
      "\n",
      "Printing Input Array\n",
      "----------------------------------------\n",
      "[[ 3  6  9 12]\n",
      " [15 18 21 24]\n",
      " [27 30 33 36]\n",
      " [39 42 45 48]\n",
      " [51 54 57 60]]\n",
      "\n",
      "Printing array of odd rows and even columns\n",
      "------------------------------------------------------------\n",
      "[[ 6 12]\n",
      " [30 36]\n",
      " [54 60]]\n"
     ]
    }
   ],
   "source": [
    "sampleArray = np.array([[3 ,6, 9, 12], [15 ,18, 21, 24],\n",
    "[27 ,30, 33, 36], [39 ,42, 45, 48], [51 ,54, 57, 60]])\n",
    "\n",
    "print(\"\\nPrinting Input Array\",\"-\"*40,sampleArray,\"\\nPrinting array of odd rows and even columns\",\"-\"*60,sampleArray[::2,1::2],sep=\"\\n\")"
   ]
  },
  {
   "cell_type": "markdown",
   "metadata": {},
   "source": [
    "**Question 5:**\n",
    "\n",
    "Extract all odd numbers from arr\n",
    "Input:\n",
    "arr = np.array([0, 1, 2, 3, 4, 5, 6, 7, 8, 9])\n",
    "Desired output:\n",
    "#> array([1, 3, 5, 7, 9])"
   ]
  },
  {
   "cell_type": "code",
   "execution_count": 7,
   "metadata": {},
   "outputs": [
    {
     "data": {
      "text/plain": [
       "array([1, 3, 5, 7, 9])"
      ]
     },
     "execution_count": 7,
     "metadata": {},
     "output_type": "execute_result"
    }
   ],
   "source": [
    "arr = np.array([0,1,2,3,4,5,6,7,8,9])\n",
    "arr[arr%2!=0]"
   ]
  },
  {
   "cell_type": "markdown",
   "metadata": {},
   "source": [
    "**Question 6:**\n",
    "\n",
    "Replace all odd numbers in arr with -1.\n",
    "Input:\n",
    "arr = np.array([0, 1, 2, 3, 4, 5, 6, 7, 8, 9])\n",
    "Desired Output:\n",
    "#> array([ 0, -1, 2, -1, 4, -1, 6, -1, 8, -1])\n"
   ]
  },
  {
   "cell_type": "code",
   "execution_count": 8,
   "metadata": {},
   "outputs": [
    {
     "data": {
      "text/plain": [
       "array([ 0, -1,  2, -1,  4, -1,  6, -1,  8, -1])"
      ]
     },
     "execution_count": 8,
     "metadata": {},
     "output_type": "execute_result"
    }
   ],
   "source": [
    "# Input\n",
    "arr = np.array([0,1,2,3,4,5,6,7,8,9])\n",
    "\n",
    "# Output\n",
    "op = np.where(arr%2!=0,-1,arr)\n",
    "op"
   ]
  },
  {
   "cell_type": "markdown",
   "metadata": {},
   "source": [
    "**Question: 7**\n",
    "\n",
    "Replace all odd numbers in arr with -1 without changing arr\n",
    "Input:\n",
    "arr = np.array([0, 1, 2, 3, 4, 5, 6, 7, 8, 9])\n",
    "Desired Output:\n",
    "out\n",
    "#> array([ 0, -1, 2, -1, 4, -1, 6, -1, 8, -1])\n",
    "arr\n",
    "#> array([0, 1, 2, 3, 4, 5, 6, 7, 8, 9])"
   ]
  },
  {
   "cell_type": "code",
   "execution_count": 9,
   "metadata": {},
   "outputs": [
    {
     "name": "stdout",
     "output_type": "stream",
     "text": [
      "\n",
      "Desired Output\n",
      "****************************************\n",
      "[ 0 -1  2 -1  4 -1  6 -1  8 -1]\n",
      "\n",
      "And the array is:\n",
      "****************************************\n",
      "[0 1 2 3 4 5 6 7 8 9]\n"
     ]
    }
   ],
   "source": [
    "arr = np.array([0,1,2,3,4,5,6,7,8,9])\n",
    "out = np.where(arr%2!=0,-1,arr)\n",
    "print(\"\\nDesired Output\",\"*\"*40,out,\"\\nAnd the array is:\",\"*\"*40,arr,sep=\"\\n\")"
   ]
  },
  {
   "cell_type": "markdown",
   "metadata": {},
   "source": [
    "**Question 8:**\n",
    "\n",
    "Convert a 1D array to a 2D array with 2 rows \n",
    "Input:\n",
    "np.arange(10)\n",
    "\n",
    "#> array([ 0, 1, 2, 3, 4, 5, 6, 7, 8, 9])\n",
    "Desired Output:\n",
    "#> array([[0, 1, 2, 3, 4],\n",
    "#> [5, 6, 7, 8, 9]])\n",
    "9. Create a 3x3x3 array with random values"
   ]
  },
  {
   "cell_type": "code",
   "execution_count": 10,
   "metadata": {},
   "outputs": [
    {
     "name": "stdout",
     "output_type": "stream",
     "text": [
      "\n",
      "The orignal array\n",
      "----------------------------------------\n",
      "[0 1 2 3 4 5 6 7 8 9]\n",
      "\n",
      "Desired Output\n",
      "----------------------------------------\n",
      "[[0 1 2 3 4]\n",
      " [5 6 7 8 9]]\n"
     ]
    }
   ],
   "source": [
    "arr = np.arange(10)\n",
    "print(\"\\nThe orignal array\",\"-\"*40,arr,sep=\"\\n\")\n",
    "\n",
    "new = arr.reshape(2,5)\n",
    "print(\"\\nDesired Output\",\"-\"*40,new,sep=\"\\n\")"
   ]
  },
  {
   "cell_type": "markdown",
   "metadata": {},
   "source": [
    "**Question 9:**\n",
    "Create a 3*3*3 array with random values\n"
   ]
  },
  {
   "cell_type": "code",
   "execution_count": 11,
   "metadata": {},
   "outputs": [
    {
     "name": "stdout",
     "output_type": "stream",
     "text": [
      "\n",
      "3 X 3 X 3 matrix with random values.\n",
      "----------------------------------------\n",
      "[[[-1.07487327  1.50253027  1.51848453]\n",
      "  [ 1.11788942 -0.75970397 -0.13420544]\n",
      "  [-0.98118786  0.39451177 -1.12658748]]\n",
      "\n",
      " [[ 0.34534718  1.07059931 -0.86810974]\n",
      "  [ 0.68013361  0.70698509  0.27873591]\n",
      "  [ 0.53510818 -0.85875972  0.74636469]]\n",
      "\n",
      " [[ 2.03994182  0.98009227 -1.20221126]\n",
      "  [-1.03110611 -0.50138672 -0.01255967]\n",
      "  [-0.73715178  0.01601941 -0.04166292]]]\n"
     ]
    }
   ],
   "source": [
    "r = rn(3,3,3)\n",
    "print(\"\\n3 X 3 X 3 matrix with random values.\",\"-\"*40,r,sep=\"\\n\")"
   ]
  },
  {
   "cell_type": "markdown",
   "metadata": {},
   "source": [
    "**Question 10:**\n",
    "\n",
    "Write the NumPy program to create a null vector of size 10 and update sixth value to 11."
   ]
  },
  {
   "cell_type": "code",
   "execution_count": 12,
   "metadata": {},
   "outputs": [
    {
     "name": "stdout",
     "output_type": "stream",
     "text": [
      "\n",
      "Null vector of size = 10\n",
      "----------------------------------------\n",
      "[0. 0. 0. 0. 0. 0. 0. 0. 0. 0.]\n",
      " \n",
      "\n",
      "After updating sixth value to 11\n",
      "----------------------------------------\n",
      "[ 0.  0.  0.  0.  0.  0. 11.  0.  0.  0.]\n",
      " \n"
     ]
    }
   ],
   "source": [
    "a = np.zeros(10)\n",
    "print(\"\\nNull vector of size = 10\",\"-\"*40,a,\" \",sep=\"\\n\")\n",
    "a[6]=11\n",
    "print(\"\\nAfter updating sixth value to 11\",\"-\"*40,a,\" \",sep=\"\\n\")"
   ]
  },
  {
   "cell_type": "markdown",
   "metadata": {},
   "source": [
    "**Question 11:**\n",
    "\n",
    "Write a NumPy program to convert a list and tuple into arrays."
   ]
  },
  {
   "cell_type": "code",
   "execution_count": 13,
   "metadata": {},
   "outputs": [
    {
     "name": "stdout",
     "output_type": "stream",
     "text": [
      "\n",
      "List and Tuple\n",
      "----------------------------------------\n",
      "[1, 2, 3, 4, 5, 6]\n",
      "('A', 'B', 'C', 'D', 'E')\n",
      " \n",
      "\n",
      "After converting to array\n",
      "----------------------------------------\n",
      "[1 2 3 4 5 6]\n",
      "['A' 'B' 'C' 'D' 'E']\n",
      " \n"
     ]
    }
   ],
   "source": [
    "list1 = [1, 2, 3, 4, 5, 6]\n",
    "tuple1 = ('A', 'B', 'C', 'D', 'E')\n",
    "print(\"\\nList and Tuple\",\"-\"*40,list1,tuple1,\" \",sep=\"\\n\")\n",
    "\n",
    "nplist = np.array(list1)\n",
    "nptuple = np.array(tuple1)\n",
    "print(\"\\nAfter converting to array\",\"-\"*40,nplist,nptuple,\" \",sep=\"\\n\")"
   ]
  },
  {
   "cell_type": "markdown",
   "metadata": {},
   "source": [
    "**Question 12**\n",
    "\n",
    "Write a NumPy program to create a 2-D array whose diagonal equals [4,5,6,8] and 0's elsewhere.\n"
   ]
  },
  {
   "cell_type": "code",
   "execution_count": 14,
   "metadata": {},
   "outputs": [
    {
     "name": "stdout",
     "output_type": "stream",
     "text": [
      "\n",
      "2-D array with O's everywhere\n",
      "----------------------------------------\n",
      "[[0. 0. 0. 0.]\n",
      " [0. 0. 0. 0.]\n",
      " [0. 0. 0. 0.]\n",
      " [0. 0. 0. 0.]]\n",
      "\n",
      "2-D arrray with diagonal changed diagonal values\n",
      "--------------------------------------------------\n",
      "[[4. 0. 0. 0.]\n",
      " [0. 5. 0. 0.]\n",
      " [0. 0. 6. 0.]\n",
      " [0. 0. 0. 8.]]\n"
     ]
    }
   ],
   "source": [
    "a = [4,5,6,8]\n",
    "arr = np.zeros(shape=(4,4))\n",
    "print(\"\\n2-D array with O's everywhere\",\"-\"*40,arr,sep=\"\\n\")\n",
    "for i in range(4):\n",
    "    arr[i,i]=a[i]\n",
    "\n",
    "print(\"\\n2-D arrray with diagonal changed diagonal values\",\"-\"*50,arr,sep=\"\\n\")\n",
    "    \n",
    "\n"
   ]
  },
  {
   "cell_type": "code",
   "execution_count": null,
   "metadata": {},
   "outputs": [],
   "source": []
  }
 ],
 "metadata": {
  "kernelspec": {
   "display_name": "Python 3",
   "language": "python",
   "name": "python3"
  },
  "language_info": {
   "codemirror_mode": {
    "name": "ipython",
    "version": 3
   },
   "file_extension": ".py",
   "mimetype": "text/x-python",
   "name": "python",
   "nbconvert_exporter": "python",
   "pygments_lexer": "ipython3",
   "version": "3.8.3"
  }
 },
 "nbformat": 4,
 "nbformat_minor": 4
}
