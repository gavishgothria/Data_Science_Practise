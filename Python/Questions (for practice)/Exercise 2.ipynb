{
 "cells": [
  {
   "cell_type": "code",
   "execution_count": 1,
   "metadata": {},
   "outputs": [
    {
     "name": "stdout",
     "output_type": "stream",
     "text": [
      "AJrpan\n"
     ]
    }
   ],
   "source": [
    "#1. Given 2 strings, s1 and s2 returns a new string made of the first, middle and last char earh input string\n",
    "\n",
    "s1  = \"America\"\n",
    "s2 = \"Japan\"\n",
    "output= s1[0]+s2[0] + s1[(len(s1)//2)] + s2[(len(s2)//2)] + s1[-1]+s2[-1]\n",
    "print(output)"
   ]
  },
  {
   "cell_type": "code",
   "execution_count": 2,
   "metadata": {},
   "outputs": [
    {
     "name": "stdout",
     "output_type": "stream",
     "text": [
      "yhonPT\n"
     ]
    }
   ],
   "source": [
    "# 2. Arrange string characters such that lowercase letters should come first\n",
    "\n",
    "str1 = \"PyThon\"\n",
    "upper = []\n",
    "lower = []\n",
    "for i in str1:\n",
    "    if i.islower():\n",
    "        lower.append(i)\n",
    "    elif i.isupper():\n",
    "        upper.append(i)\n",
    "output = \"\".join(lower + upper)\n",
    "print(output)"
   ]
  },
  {
   "cell_type": "code",
   "execution_count": 3,
   "metadata": {},
   "outputs": [
    {
     "name": "stdout",
     "output_type": "stream",
     "text": [
      "Total counts of chars, digits, and symbols\n",
      " \n",
      " \n",
      " Chars = 8\n",
      "Digits = 3\n",
      "Symbol = 4\n"
     ]
    }
   ],
   "source": [
    "# 3. Count all lower case, upper case , digits and special symbols from a given string.\n",
    "\n",
    "str1 = \"P@#ya26ct^&i5ve\"\n",
    "Chars = 0 \n",
    "Digits = 0\n",
    "Symbol = 0\n",
    "\n",
    "for i in str1:\n",
    "    if i.isalpha():\n",
    "        Chars +=1\n",
    "    elif i.isnumeric():\n",
    "        Digits +=1\n",
    "    else:\n",
    "        Symbol +=1\n",
    "        \n",
    "print(f\"Total counts of chars, digits, and symbols\\n \\n \\n Chars = {Chars}\\nDigits = {Digits}\\nSymbol = {Symbol}\")\n",
    "        "
   ]
  },
  {
   "cell_type": "code",
   "execution_count": 4,
   "metadata": {},
   "outputs": [
    {
     "name": "stdout",
     "output_type": "stream",
     "text": [
      "AzbycX"
     ]
    }
   ],
   "source": [
    "# 4. Given two strings s1, and s2, create a mixed String\n",
    "\n",
    "s1 = \"Abc\"\n",
    "s2 = \"Xyz\"\n",
    "for i in range(3):\n",
    "    output = s1[i] + s2[3-i-1]\n",
    "    print(output,end=\"\")\n",
    "    "
   ]
  },
  {
   "cell_type": "code",
   "execution_count": 5,
   "metadata": {},
   "outputs": [
    {
     "name": "stdout",
     "output_type": "stream",
     "text": [
      "The INDIA count is : 2\n"
     ]
    }
   ],
   "source": [
    " # 5.Find all occurrences of \"INDIA\" in given string ignoring the case:\n",
    "\n",
    "str1 = \"Welcome to INDIA. india awesome, isn''t it?\"\n",
    "\n",
    "count = str1.lower().count('india')\n",
    "\n",
    "print(f\"The INDIA count is : {count}\")"
   ]
  },
  {
   "cell_type": "code",
   "execution_count": 6,
   "metadata": {},
   "outputs": [
    {
     "name": "stdout",
     "output_type": "stream",
     "text": [
      "Element at odd-index positions form list one\n",
      "[6, 12, 18]\n",
      "Element at even-index positions from list two\n",
      "[4, 12, 20, 28]\n",
      "Printing Final third list\n",
      "[6, 12, 18, 4, 12, 20, 28]\n"
     ]
    }
   ],
   "source": [
    "# 6: Given a two list. Create a third list by picking an odd-index element form the first llist and even index elements form second.\n",
    "\n",
    "listOne = [3, 6, 9, 12, 15, 18, 21]\n",
    "listTwo = [4, 8, 12, 16, 20, 24, 28]\n",
    "\n",
    "first_list = []\n",
    "second_list = []\n",
    "\n",
    "for i in range(0, len(listOne),2):\n",
    "    second_list.append(listTwo[i])\n",
    "for i in range(1,len(listOne),2):\n",
    "    first_list.append(listOne[i])\n",
    "\n",
    "thrid = first_list + second_list\n",
    "print(\"Element at odd-index positions form list one\")\n",
    "print(first_list)\n",
    "print(\"Element at even-index positions from list two\")\n",
    "print(second_list)\n",
    "print(\"Printing Final third list\")\n",
    "print(thrid)"
   ]
  },
  {
   "cell_type": "code",
   "execution_count": 7,
   "metadata": {},
   "outputs": [
    {
     "name": "stdout",
     "output_type": "stream",
     "text": [
      "[10, 20, [300, 400, [5000, 6000, 7000], 500], 30, 40]\n"
     ]
    }
   ],
   "source": [
    "# 7. Add item 7000 after 6000 in the following Pthon List\n",
    "\n",
    "list1 = [10, 20, [300, 400, [5000, 6000], 500], 30, 40]\n",
    "\n",
    "list1[2][2].append(7000)\n",
    "print(list1)"
   ]
  },
  {
   "cell_type": "code",
   "execution_count": 8,
   "metadata": {},
   "outputs": [
    {
     "name": "stdout",
     "output_type": "stream",
     "text": [
      "['a', 'b', ['c', ['d', 'e', ['f', 'g', 'h', 'i', 'j'], 'k'], 'l'], 'm', 'n']\n"
     ]
    }
   ],
   "source": [
    "# 8. Given a nested list extend it with adding sub list [\"h\",\"i\",\"j\"] in a such a way that it will look like the following list.\n",
    "\n",
    "list1 = [\"a\", \"b\", [\"c\", [\"d\", \"e\", [\"f\", \"g\"], \"k\"], \"l\"], \"m\", \"n\"]\n",
    "\n",
    "# output should be:['a', 'b', ['c', ['d', 'e', ['f', 'g', 'h', 'i', 'j'], 'k'], 'l'], 'm', 'n']\n",
    "for i in ['h', 'i', 'j']:\n",
    "    list1[2][1][2].append(i)\n",
    "     \n",
    "print(list1)"
   ]
  },
  {
   "cell_type": "code",
   "execution_count": 9,
   "metadata": {},
   "outputs": [
    {
     "name": "stdout",
     "output_type": "stream",
     "text": [
      "[5, 10, 15, 200, 25, 50, 20]\n"
     ]
    }
   ],
   "source": [
    "# 9. Given a Python list, find value 20 in the list, and if it is present, replace it with 200. Only update the first occurrence of a value\n",
    "\n",
    "list1 = [5, 10, 15, 20, 25, 50, 20]\n",
    "\n",
    "index = list1.index(20)\n",
    "list1[index] = 200\n",
    "print(list1)\n",
    "\n"
   ]
  },
  {
   "cell_type": "code",
   "execution_count": 10,
   "metadata": {},
   "outputs": [
    {
     "data": {
      "text/plain": [
       "[5, 15, 25, 50]"
      ]
     },
     "execution_count": 10,
     "metadata": {},
     "output_type": "execute_result"
    }
   ],
   "source": [
    "# 10. Given a Python list, remove all occurrence of 20 from the list\n",
    "\n",
    "list1 = [5, 20, 15, 20, 25, 50, 20]\n",
    "\n",
    "[i for i in list1 if i!=20]"
   ]
  },
  {
   "cell_type": "code",
   "execution_count": 11,
   "metadata": {},
   "outputs": [
    {
     "name": "stdout",
     "output_type": "stream",
     "text": [
      "10\n",
      "20\n",
      "30\n",
      "40\n"
     ]
    }
   ],
   "source": [
    "# 11. Unpack the following tuple into 4 variables\n",
    "aTuple = (10, 20, 30, 40)\n",
    "a= aTuple[0]\n",
    "b = aTuple[1]\n",
    "c = aTuple[2]\n",
    "d = aTuple[3]\n",
    "print(a)\n",
    "print(b)\n",
    "print(c)\n",
    "print(d)\n"
   ]
  },
  {
   "cell_type": "code",
   "execution_count": 12,
   "metadata": {},
   "outputs": [
    {
     "name": "stdout",
     "output_type": "stream",
     "text": [
      "(99, 88)\n",
      "(11, 22)\n"
     ]
    }
   ],
   "source": [
    "# 12. Swap the following two tuples\n",
    "tuple1 = (11, 22)\n",
    "tuple2 = (99, 88)\n",
    "tuple1, tuple2 = tuple2, tuple1\n",
    "print(tuple1)\n",
    "print(tuple2)"
   ]
  },
  {
   "cell_type": "code",
   "execution_count": 13,
   "metadata": {},
   "outputs": [
    {
     "data": {
      "text/plain": [
       "2"
      ]
     },
     "execution_count": 13,
     "metadata": {},
     "output_type": "execute_result"
    }
   ],
   "source": [
    "# 13. Count the number of occurrences of item 50 from a tuple\n",
    "tuple1 = (50, 10, 60, 70, 50)\n",
    "tuple1.count(50)"
   ]
  },
  {
   "cell_type": "code",
   "execution_count": 14,
   "metadata": {},
   "outputs": [
    {
     "name": "stdout",
     "output_type": "stream",
     "text": [
      "True\n"
     ]
    }
   ],
   "source": [
    "# 14. Check if all items in the following tuple are the same \n",
    "tuple1 = (45, 45, 45, 45)\n",
    "count = 1\n",
    "for i in tuple1:\n",
    "    if i != 45:\n",
    "        count = 0\n",
    "if count ==1:\n",
    "    print(True)\n",
    "else:\n",
    "    print(False)"
   ]
  },
  {
   "cell_type": "code",
   "execution_count": 15,
   "metadata": {},
   "outputs": [
    {
     "data": {
      "text/plain": [
       "20"
      ]
     },
     "execution_count": 15,
     "metadata": {},
     "output_type": "execute_result"
    }
   ],
   "source": [
    "#  15. Access value 20 from the following tuple\n",
    "aTuple = (\"Orange\", [10, 20, 30], (5, 15, 25))\n",
    "aTuple[1][1]"
   ]
  },
  {
   "cell_type": "code",
   "execution_count": null,
   "metadata": {},
   "outputs": [],
   "source": []
  }
 ],
 "metadata": {
  "kernelspec": {
   "display_name": "Python 3",
   "language": "python",
   "name": "python3"
  },
  "language_info": {
   "codemirror_mode": {
    "name": "ipython",
    "version": 3
   },
   "file_extension": ".py",
   "mimetype": "text/x-python",
   "name": "python",
   "nbconvert_exporter": "python",
   "pygments_lexer": "ipython3",
   "version": "3.8.3"
  }
 },
 "nbformat": 4,
 "nbformat_minor": 4
}
