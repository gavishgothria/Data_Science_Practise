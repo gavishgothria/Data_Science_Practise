{
 "cells": [
  {
   "cell_type": "markdown",
   "metadata": {},
   "source": [
    "### Dictionary"
   ]
  },
  {
   "cell_type": "markdown",
   "metadata": {},
   "source": [
    "1. Merage following two Python dictionaries into one.\n",
    "\n",
    "dict1 = {'Ten': 10, 'Twenty': 20, 'Thirty': 30}\n",
    "\n",
    "dict2 = {'Thirty': 30, 'Fourty': 40, 'Fifty': 50}"
   ]
  },
  {
   "cell_type": "code",
   "execution_count": 12,
   "metadata": {},
   "outputs": [
    {
     "data": {
      "text/plain": [
       "{'Ten': 10, 'Twenty': 20, 'Thirty': 30, 'Fourty': 40, 'Fifty': 50}"
      ]
     },
     "execution_count": 12,
     "metadata": {},
     "output_type": "execute_result"
    }
   ],
   "source": [
    "dict1 = {'Ten': 10, 'Twenty': 20, 'Thirty': 30}\n",
    "\n",
    "dict2 = {'Thirty': 30, 'Fourty': 40, 'Fifty': 50}\n",
    "\n",
    "dic3 = {}\n",
    "for i,j in dict1.items():\n",
    "    if not i in dic3:\n",
    "        dic3[i]= j\n",
    "        \n",
    "for i,j in dict2.items():\n",
    "    if not i in dic3:\n",
    "        dic3[i]= j\n",
    "\n",
    "dic3"
   ]
  },
  {
   "cell_type": "code",
   "execution_count": 14,
   "metadata": {},
   "outputs": [
    {
     "ename": "TypeError",
     "evalue": "'dict' object is not callable",
     "output_type": "error",
     "traceback": [
      "\u001b[1;31m---------------------------------------------------------------------------\u001b[0m",
      "\u001b[1;31mTypeError\u001b[0m                                 Traceback (most recent call last)",
      "\u001b[1;32m<ipython-input-14-b17b3d69a3d2>\u001b[0m in \u001b[0;36m<module>\u001b[1;34m\u001b[0m\n\u001b[1;32m----> 1\u001b[1;33m \u001b[0mdict1\u001b[0m\u001b[1;33m(\u001b[0m\u001b[1;36m2\u001b[0m\u001b[1;33m)\u001b[0m\u001b[1;33m\u001b[0m\u001b[1;33m\u001b[0m\u001b[0m\n\u001b[0m",
      "\u001b[1;31mTypeError\u001b[0m: 'dict' object is not callable"
     ]
    }
   ],
   "source": []
  },
  {
   "cell_type": "code",
   "execution_count": 22,
   "metadata": {},
   "outputs": [
    {
     "data": {
      "text/plain": [
       "80"
      ]
     },
     "execution_count": 22,
     "metadata": {},
     "output_type": "execute_result"
    }
   ],
   "source": [
    "#2.  Acess the value of key 'history'\n",
    "\n",
    "sampleDict = {\n",
    "    \"class\":{\n",
    "        \"student\":{\n",
    "            \"name\":\"MIke\",\n",
    "            \"marks\":{\n",
    "                \"physics\": 70,\n",
    "                \"history\": 80\n",
    "            }\n",
    "        }\n",
    "    }\n",
    "}\n",
    "\n",
    "sampleDict['class']['student']['marks']['history']"
   ]
  },
  {
   "cell_type": "code",
   "execution_count": 39,
   "metadata": {},
   "outputs": [
    {
     "data": {
      "text/plain": [
       "{'name': 'Kelly', 'salary': 8000}"
      ]
     },
     "execution_count": 39,
     "metadata": {},
     "output_type": "execute_result"
    }
   ],
   "source": [
    "# 3. Create a new dictionary by extracting the following keys from a given dicitonary.\n",
    "\n",
    "sampleDict = {\n",
    "    \"name\": \"Kelly\",\n",
    "    \"age\": 25,\n",
    "    \"salary\": 8000,\n",
    "    \"city\": \"New York\"\n",
    "\n",
    "}\n",
    "\n",
    "keys = [\"name\",\"salary\"]\n",
    "new = {}\n",
    "for k,v in sampleDict.items():\n",
    "    if k in keys:\n",
    "        new[k] = v\n",
    "        \n",
    "new\n",
    "\n",
    "\n",
    "\n"
   ]
  },
  {
   "cell_type": "code",
   "execution_count": 45,
   "metadata": {},
   "outputs": [
    {
     "data": {
      "text/plain": [
       "True"
      ]
     },
     "execution_count": 45,
     "metadata": {},
     "output_type": "execute_result"
    }
   ],
   "source": [
    "# 4. Check if a value 200 exists in a dictionary\n",
    "\n",
    "sampleDict = {'a':100,'b':200, 'c':300}\n",
    "\n",
    "200 in sampleDict.values()"
   ]
  },
  {
   "cell_type": "code",
   "execution_count": 54,
   "metadata": {},
   "outputs": [
    {
     "name": "stdout",
     "output_type": "stream",
     "text": [
      "Math\n"
     ]
    }
   ],
   "source": [
    "# 5. Get the keys corresponding to the mininmum values from the following dictionary.\n",
    "\n",
    "sampleDict = {\n",
    "    'Physics': 82,\n",
    "    'Math': 65,\n",
    "    'History': 75\n",
    "}\n",
    "\n",
    "l = list(sampleDict.values())\n",
    "minimum = min(l)\n",
    "\n",
    "for k,v in sampleDict.items():\n",
    "    if v == minimum:\n",
    "        print(k)"
   ]
  },
  {
   "cell_type": "code",
   "execution_count": 56,
   "metadata": {},
   "outputs": [
    {
     "data": {
      "text/plain": [
       "{'emp1': {'name': 'Jhon', 'salary': 7500},\n",
       " 'emp2': {'name': 'Emma', 'salary': 8000},\n",
       " 'emp3': {'name': 'Brad', 'salary': 8500}}"
      ]
     },
     "execution_count": 56,
     "metadata": {},
     "output_type": "execute_result"
    }
   ],
   "source": [
    "# 6. Given a Python dictionary, Change Brad's salary to 8500\n",
    "\n",
    "sampleDict = {\n",
    "    'emp1': {'name': 'Jhon', 'salary':7500},\n",
    "    'emp2': {'name': 'Emma', 'salary':8000},\n",
    "    'emp3': {'name': 'Brad', 'salary':6500}\n",
    "}\n",
    "\n",
    "sampleDict['emp3']['salary'] = 8500\n",
    "\n",
    "sampleDict"
   ]
  },
  {
   "cell_type": "markdown",
   "metadata": {},
   "source": [
    "### Sets"
   ]
  },
  {
   "cell_type": "code",
   "execution_count": 64,
   "metadata": {},
   "outputs": [
    {
     "data": {
      "text/plain": [
       "{'Black', 'Blue', 'Green', 'Orange', 'Red', 'Yellow'}"
      ]
     },
     "execution_count": 64,
     "metadata": {},
     "output_type": "execute_result"
    }
   ],
   "source": [
    "#7. Add a list of elements to a given set.\n",
    "\n",
    "s1 = {\"Yellow\", \"Orange\",\"Black\"}\n",
    "l2 = [\"Blue\",\"Green\",\"Red\"]\n",
    "\n",
    "s2 = set(l2)\n",
    "s2.union(s1)\n"
   ]
  },
  {
   "cell_type": "code",
   "execution_count": 84,
   "metadata": {},
   "outputs": [
    {
     "data": {
      "text/plain": [
       "{10, 30}"
      ]
     },
     "execution_count": 84,
     "metadata": {},
     "output_type": "execute_result"
    }
   ],
   "source": [
    "#8. Given two Python sets, update first set with items that exist only inthe first set and not in the second set.\n",
    "\n",
    "set1 = {10, 20, 30}\n",
    "\n",
    "set2 = {20,40,50}\n",
    "\n",
    "common = set1 & set2\n",
    "\n",
    "set1.difference_update(common)\n",
    "set1\n"
   ]
  },
  {
   "cell_type": "code",
   "execution_count": 97,
   "metadata": {},
   "outputs": [
    {
     "name": "stdout",
     "output_type": "stream",
     "text": [
      "{40, 50}\n",
      "{70, 10, 20, 60}\n"
     ]
    }
   ],
   "source": [
    "# 9. Remove 10,20,30 elements from a following set at once\n",
    "set1 = {10, 20, 30, 40, 50}\n",
    "\n",
    "set1.remove(10)\n",
    "set1.remove(20)\n",
    "set1.remove(30)\n",
    "print(set1)\n",
    "\n",
    "\n",
    "\n",
    "set2 = {10, 20, 30, 40, 50}\n",
    "set3 = {30, 40, 50, 60, 70}\n",
    "\n",
    "common = set2 & set3\n",
    "combined = set2 | set3\n",
    "combined.difference_update(common)\n",
    "print(combined)"
   ]
  },
  {
   "cell_type": "code",
   "execution_count": 100,
   "metadata": {},
   "outputs": [
    {
     "name": "stdout",
     "output_type": "stream",
     "text": [
      "Two sets have itmes in common {10}\n"
     ]
    }
   ],
   "source": [
    "# 10. Determines whether or not the following two sets have any elements in common. If yes display the common elements.\n",
    "\n",
    "set1 = {10, 20, 30, 40, 50}\n",
    "set2 = {60, 70, 80, 90, 10}\n",
    "\n",
    "print(f\"Two sets have itmes in common {set1 & set2}\")"
   ]
  },
  {
   "cell_type": "markdown",
   "metadata": {},
   "source": [
    "###  Functions\n"
   ]
  },
  {
   "cell_type": "code",
   "execution_count": 110,
   "metadata": {},
   "outputs": [
    {
     "name": "stdout",
     "output_type": "stream",
     "text": [
      "80\n",
      "100\n"
     ]
    }
   ],
   "source": [
    "# 11. Write a function func1() such that it can accept a variable length of argument and print all arguments value\n",
    "\n",
    "def func1(*args):\n",
    "    for i in args:\n",
    "        print(i)\n",
    "\n",
    "func1(80, 100)"
   ]
  },
  {
   "cell_type": "code",
   "execution_count": 115,
   "metadata": {},
   "outputs": [
    {
     "name": "stdout",
     "output_type": "stream",
     "text": [
      "(' A res should produce result', 50, 30)\n"
     ]
    }
   ],
   "source": [
    "# 12. Write a function calculation() such that it can accept two variables and calculate the addition and subtraction of it. And also it must return both addition and subtraction in a single return call.\n",
    "\n",
    "def calculation(a, b):\n",
    "    return (\" A res should produce result\",a+b , a-b)\n",
    "\n",
    "res = calculation(40, 10)\n",
    "print(res)"
   ]
  },
  {
   "cell_type": "code",
   "execution_count": 118,
   "metadata": {},
   "outputs": [
    {
     "data": {
      "text/plain": [
       "'Employee Ben salary is: 9000'"
      ]
     },
     "execution_count": 118,
     "metadata": {},
     "output_type": "execute_result"
    }
   ],
   "source": [
    "# 13 Create a function `showEmployee()` in such a way that it should accept employee name, and it's salary and display both, and if the salary is missing in function call it should show it as 9000.\n",
    "\n",
    "def showEmployee(name,salary=9000):\n",
    "    return f\"Employee {name} salary is: {salary}\"\n",
    "\n",
    "showEmployee(\"Ben\", 9000)"
   ]
  },
  {
   "cell_type": "code",
   "execution_count": 127,
   "metadata": {},
   "outputs": [
    {
     "data": {
      "text/plain": [
       "16"
      ]
     },
     "execution_count": 127,
     "metadata": {},
     "output_type": "execute_result"
    }
   ],
   "source": [
    "# 14. Create an inner function to calculate the additon in the following way.\n",
    "\n",
    "\"\"\"\n",
    "Create an outer function that will accept two parameters a and b\n",
    "• Create an inner function inside an outer function that will calculate the addition\n",
    "of a and b\n",
    "\n",
    "• At last, an outer function will add 5 into addition and return it\n",
    "\"\"\"\n",
    "\n",
    "def outer(a,b):\n",
    "    def addition():\n",
    "        return a+b\n",
    "        \n",
    "               \n",
    "    return addition() + 5\n",
    "\n",
    "outer(5,6)"
   ]
  },
  {
   "cell_type": "code",
   "execution_count": 130,
   "metadata": {},
   "outputs": [
    {
     "data": {
      "text/plain": [
       "55"
      ]
     },
     "execution_count": 130,
     "metadata": {},
     "output_type": "execute_result"
    }
   ],
   "source": [
    "# 15. Write a reucrsive function to calculate the sum of numbers from 0 to 10.\n",
    "def recursive(x):\n",
    "    a = 0\n",
    "    for i in range(x+1):\n",
    "        a +=i\n",
    "    return a\n",
    "        \n",
    "        \n",
    "        \n",
    "recursive(10)"
   ]
  },
  {
   "cell_type": "code",
   "execution_count": null,
   "metadata": {},
   "outputs": [],
   "source": []
  }
 ],
 "metadata": {
  "kernelspec": {
   "display_name": "Python 3",
   "language": "python",
   "name": "python3"
  },
  "language_info": {
   "codemirror_mode": {
    "name": "ipython",
    "version": 3
   },
   "file_extension": ".py",
   "mimetype": "text/x-python",
   "name": "python",
   "nbconvert_exporter": "python",
   "pygments_lexer": "ipython3",
   "version": "3.8.3"
  }
 },
 "nbformat": 4,
 "nbformat_minor": 4
}
