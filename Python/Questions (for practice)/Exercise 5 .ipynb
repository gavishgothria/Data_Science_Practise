{
 "cells": [
  {
   "cell_type": "code",
   "execution_count": 4,
   "metadata": {},
   "outputs": [],
   "source": [
    "import numpy as np\n",
    "import pandas as pd\n",
    "import random\n",
    "import math\n",
    "import re\n"
   ]
  },
  {
   "cell_type": "code",
   "execution_count": null,
   "metadata": {},
   "outputs": [],
   "source": [
    "# Question: 1\n",
    "\"\"\"\n",
    "Write a program which will find all such numbers which are divisible by 7 but are not a multiple of 5,\n",
    "between 2000 and 3200 (both included). The numbers obtained should be printed in a comma-separated sequence on a\n",
    "single line.\n",
    "\"\"\"\n",
    "\n",
    "# for i in range(2000,3201):\n",
    "#     if i%7==0 and i%5!=0:\n",
    "#         print(f\"{i},\",end=\"\")\n",
    "        \n",
    "numbers = [i for i in range(2000, 3201) if i%7==0 and i%5 != 0]\n",
    "print(numbers)"
   ]
  },
  {
   "cell_type": "code",
   "execution_count": null,
   "metadata": {},
   "outputs": [],
   "source": [
    "# Question: 2\n",
    "\"\"\"\n",
    "Write a program which can compute the factorial of a given numbers. The results should be printed in\n",
    "a comma-separated sequence on a single line. Suppose the following input is supplied to the program: 8\n",
    "Then, the output should be: 40320\n",
    "\n",
    "\"\"\"\n",
    "n = int(input(\"Enter a integer: \"))\n",
    "\n",
    "# def factorial(n):\n",
    "#     # n is number\n",
    "#     if n <=1:\n",
    "#         return 1\n",
    "#     else:\n",
    "#         return n * factorial(n-1)\n",
    "    \n",
    "\n",
    "\n",
    "\n",
    "# another way\n",
    "\n",
    "def factorial(n):\n",
    "    fact = 1\n",
    "    if n <=1:\n",
    "        return fact\n",
    "    else:\n",
    "        for i in range(1,n+1):\n",
    "            fact *= i\n",
    "        return fact\n",
    "            \n",
    "factorial(n)"
   ]
  },
  {
   "cell_type": "code",
   "execution_count": null,
   "metadata": {},
   "outputs": [],
   "source": [
    "# Question 3:\n",
    "\"\"\"\n",
    "With a given integral number n, write a program to generate a dictionary that contains (i, i*i) such that is\n",
    "an integral number between 1 and n (both included). and then the program should print the dictionary.\n",
    "Suppose the following input is supplied to the program: 8\n",
    "Then, the output should be: {1: 1, 2: 4, 3: 9, 4: 16, 5: 25, 6: 36, 7: 49, 8: 64}\n",
    "\"\"\"\n",
    "n = int(input(\"Enter a number: \"))\n",
    "{i:i*i for i in range(1,n+1)}"
   ]
  },
  {
   "cell_type": "code",
   "execution_count": null,
   "metadata": {},
   "outputs": [],
   "source": [
    "# Question 4:\n",
    "\"\"\"\n",
    "Write a program which accepts a sequence of comma-separated numbers from console and generate a list \n",
    "and a tuple which contains every number. Suppose the following input is supplied to the program:\n",
    "34,67,55,33,12,98, Then, the output should be:\n",
    "['34', '67', '55', '33', '12', '98']\n",
    "('34', '67', '55', '33', '12', '98')\n",
    "\"\"\"\n",
    "n = input(\" \")\n",
    "\n",
    "list1 = n.split(\",\")\n",
    "tuple1 = tuple(list1)\n",
    "\n",
    "print(list1)\n",
    "print(tuple1)"
   ]
  },
  {
   "cell_type": "code",
   "execution_count": 2,
   "metadata": {},
   "outputs": [
    {
     "name": "stdout",
     "output_type": "stream",
     "text": [
      "This is sparta\n",
      "THIS IS SPARTA\n"
     ]
    }
   ],
   "source": [
    "# Question 5:\n",
    "\"\"\"\n",
    "Define a class which has at least two methods: \n",
    "getString: to get a string from console input\n",
    "printString: to print the string in upper case. Also please include simple test function to test the class methods.\n",
    "\"\"\"\n",
    "\n",
    "class Str:\n",
    "    def __init__(self):\n",
    "        self.s= None\n",
    "        \n",
    "        \n",
    "    def getString(self):\n",
    "        self.s = input()\n",
    "                \n",
    "    def printString(self):\n",
    "        print(self.s.upper())\n",
    "        \n",
    "\n",
    "\n",
    "obj = Str()\n",
    "obj.getString()\n",
    "obj.printString()\n"
   ]
  },
  {
   "cell_type": "code",
   "execution_count": 5,
   "metadata": {},
   "outputs": [
    {
     "name": "stdout",
     "output_type": "stream",
     "text": [
      "100,150,180\n"
     ]
    },
    {
     "data": {
      "text/plain": [
       "[18, 22, 24]"
      ]
     },
     "execution_count": 5,
     "metadata": {},
     "output_type": "execute_result"
    }
   ],
   "source": [
    "# Question: 6\n",
    "\"\"\"\n",
    "Write a program that calculates and prints the value according to the given\n",
    "formula:\n",
    "Q = Square root of [(2 * C * D)/H] Following are the fixed values of C and H:\n",
    "C is 50. H is 30.  D is the variable whose values should be input to your program in a comma-\n",
    "separated sequence. \n",
    "Example\n",
    "Let us assume the following comma separated input sequence is given to the program:\n",
    "100,150,180\n",
    "The output of the program should be:\n",
    "18,22,24\n",
    "\"\"\"\n",
    "\n",
    "\n",
    "d = [int(i) for i in input(\"\").split(\",\")]\n",
    "list(map(lambda d : int(math.sqrt((2*50*d)/30)),d))\n"
   ]
  },
  {
   "cell_type": "code",
   "execution_count": 6,
   "metadata": {},
   "outputs": [
    {
     "name": "stdout",
     "output_type": "stream",
     "text": [
      "3,5\n",
      "[[0 0 0 0 0]\n",
      " [0 1 2 3 4]\n",
      " [0 2 4 6 8]]\n"
     ]
    }
   ],
   "source": [
    "# Question 7:\n",
    "\"\"\"\n",
    "Write a program which takes 2 digits, X,Y as input and generates a 2-dimensional array. The element value in the i-th row and j-th column of the\n",
    "array should be i*j. Note: i=0,1.., X-1; j=0,1,¡Y-1.\n",
    "\"\"\"\n",
    "\n",
    "\n",
    "# Creating a matrix  Method 1)\n",
    "\n",
    "# x,y = (3,5)\n",
    "# matrix = np.fromfunction(lambda i,j:i*j ,(x,y))\n",
    "# matrix\n",
    "\n",
    "\n",
    "# Creating a matrix Method 2)\n",
    "\n",
    "\n",
    "\n",
    "\n",
    "XY = [int(i) for i in input(\"\").split(\",\")]\n",
    "\n",
    "main_list = []\n",
    "\n",
    "for r in range(0,XY[0]):\n",
    "    b= []\n",
    "    for c in range(0,XY[1]):\n",
    "        b.append(r*c)\n",
    "    main_list.append(b)\n",
    "    \n",
    "    \n",
    "print(np.array(main_list))\n",
    "         \n",
    "# arr = [[x*y for y in range(XY[1])] for x in range(XY[0])]\n",
    "# arr"
   ]
  },
  {
   "cell_type": "code",
   "execution_count": 7,
   "metadata": {},
   "outputs": [
    {
     "name": "stdout",
     "output_type": "stream",
     "text": [
      "Provide comma separated sequence of words:  without,hello,bag,world\n",
      "['bag', 'hello', 'without', 'world']\n",
      "['without', 'hello', 'bag', 'world']\n"
     ]
    }
   ],
   "source": [
    "# Question: 8\n",
    "\"\"\"\n",
    "Write a program that accepts a comma separated sequence of words as input and prints the words in a \n",
    "comma-separated sequence after sorting them alphabetically. Suppose the following input is supplied to the program:\n",
    "without,hello,bag,world Then, the output should be: bag,hello,without,world\n",
    "\"\"\"\n",
    "strings = input(\"Provide comma separated sequence of words:  \")\n",
    "lst = list(strings.split(\",\"))\n",
    "print(sorted(lst))\n"
   ]
  },
  {
   "cell_type": "code",
   "execution_count": 8,
   "metadata": {},
   "outputs": [
    {
     "name": "stdout",
     "output_type": "stream",
     "text": [
      "hello world\n",
      "practice makes perfect\n",
      "\n",
      "HELLO WORLD\n",
      "PRACTICE MAKES PERFECT\n"
     ]
    }
   ],
   "source": [
    "# Question: 9\n",
    "\"\"\"\n",
    "Write a program that accepts sequence of lines as input and prints the lines after making all characters in the\n",
    "sentence capitalized. Suppose the following input is supplied to the program: Hello world Practice makes perfect\n",
    "Then, the output should be: HELLO WORLD PRACTICE MAKES PERFECT\n",
    "\"\"\"\n",
    "\n",
    "\n",
    "\n",
    "line = []\n",
    "while True:\n",
    "    string = input(\"\")\n",
    "    if string:\n",
    "        line.append(string)\n",
    "    else:\n",
    "        break\n",
    "for i in line:\n",
    "    print(i.upper())"
   ]
  },
  {
   "cell_type": "code",
   "execution_count": null,
   "metadata": {},
   "outputs": [],
   "source": [
    "# Question: 10\n",
    "\"\"\"\n",
    "Write a program that accepts a sequence of whitespace separated words as input and prints the words after\n",
    "removing all duplicate words and sorting them alphanumerically. Suppose the following input is supplied to the program:\n",
    "\n",
    "hello world and practice makes perfect and hello world again\n",
    "Then, the output should be:\n",
    "again and hello makes perfect practice world\n",
    "\"\"\"\n",
    "inpt = input(\"Say something: \")\n",
    "\n",
    "l = set(inpt.split(' '))\n",
    "result = sorted(list(l))\n",
    "print(result)\n"
   ]
  },
  {
   "cell_type": "code",
   "execution_count": null,
   "metadata": {},
   "outputs": [],
   "source": [
    "# Qustion: 11\n",
    "\"\"\"\n",
    "Write a program which accepts a sequence of comma separated 4 digit binary numbers as its input and then \n",
    "check whether they are divisible by 5 or not. The numbers that are divisible by 5 are to be printed in a\n",
    "comma separated sequence. Example: 0100,0011,1010,1001\n",
    "Then the output should be: 1010\n",
    "\"\"\"\n",
    "\n",
    "sample = ['0100','0011','1010','1001']\n",
    "for i in sample:\n",
    "    dec = int(i,2) # converting binary to decimal\n",
    "    if dec%5 == 0:\n",
    "        print(i)\n"
   ]
  },
  {
   "cell_type": "code",
   "execution_count": null,
   "metadata": {},
   "outputs": [],
   "source": [
    "# Question: 12\n",
    "\"\"\"\n",
    "Write a program, which will find all such numbers between 1000 and 3000 (both included) such that each digit of \n",
    "the number is an even number. The numbers obtained should be printed in a comma-separated sequence on a single line.\n",
    "\"\"\"\n",
    "result = []\n",
    "for i in range(1000,3001):\n",
    "    d1 = i%10  # unit digit\n",
    "    d2 = (i//10)%10\n",
    "    d3 = (i//100)%10\n",
    "    d4 = (i//1000)%10\n",
    "    if d1%2 == 0 and d2%2 == 0 and d3%2 == 0 and d4%2 == 0:\n",
    "        result.append(i)\n",
    "        \n",
    "print(result)\n",
    "        \n",
    "    \n",
    "\n"
   ]
  },
  {
   "cell_type": "code",
   "execution_count": null,
   "metadata": {},
   "outputs": [],
   "source": [
    "# Question: 13\n",
    "\"\"\"\n",
    "Write a program that accepts a sentence and calculate the number of letters and digits. Suppose the following\n",
    "input is supplied to the program: hello world! 123 Then, the output should be: LETTERS 10 DIGITS 3\n",
    "\"\"\"\n",
    "\n",
    "s = input(\"\")\n",
    "d = 0\n",
    "l = 0\n",
    "for i in s:\n",
    "    if i.isdigit():\n",
    "        d+=1\n",
    "    elif i.isalpha():\n",
    "        l+=1\n",
    "print(f\"Letter: {l} \\nDigits: {d}\")"
   ]
  },
  {
   "cell_type": "code",
   "execution_count": null,
   "metadata": {},
   "outputs": [],
   "source": [
    "# Question: 14\n",
    "\"\"\"\n",
    "Write a program that accepts a sentence and calculate the number of upper case letters and lower case letters.\n",
    "Suppose the following input is supplied to the program: Hello world! Then, the output should be:\n",
    "UPPER CASE 1\n",
    "LOWER CASE 9\n",
    "\"\"\"\n",
    "\n",
    "sentence = input(\"\")\n",
    "\n",
    "u = 0\n",
    "l = 0\n",
    "\n",
    "for i in sentence:\n",
    "    if i.isupper():\n",
    "        u +=1\n",
    "    elif i.islower():\n",
    "        l +=1\n",
    "        \n",
    "print(f\"UPPER CASE: {u} \\nlower case: {l}\")\n",
    "            "
   ]
  },
  {
   "cell_type": "code",
   "execution_count": null,
   "metadata": {},
   "outputs": [],
   "source": [
    "# Question: 15\n",
    "\"\"\"\n",
    "Write a program that computes the net amount of a bank account based a transaction log from console input.\n",
    "The transaction log format is shown as following: \n",
    "D 100\n",
    "W 200, D means deposit while W means withdrawal.\n",
    "Suppose the following input is supplied to the program:\n",
    "D 300\n",
    "D 300\n",
    "W 200\n",
    "D 100\n",
    "Then, the output should be: 500\n",
    "\"\"\"\n",
    "\n",
    "Total = 0\n",
    "while True:\n",
    "    inpt = input(\"\")\n",
    "    if inpt:\n",
    "        t = inpt.split(\" \")\n",
    "        if t[0]=='d' or t[0]=='D':\n",
    "            Total += int(t[1])\n",
    "        elif t[0]=='w' or t[0]=='W':\n",
    "            Total -= int(t[1])\n",
    "    else:\n",
    "        break\n",
    "            \n",
    "print(f\"Balance: {Total}\")"
   ]
  },
  {
   "cell_type": "code",
   "execution_count": null,
   "metadata": {},
   "outputs": [],
   "source": [
    "# Question: 16\n",
    "\"\"\"\n",
    "A website requires the users to intput username and passord to register.\n",
    "Write a program to check the validity of password input by users.\n",
    "Following are the criteria for checking the password:\n",
    "1. At least 1 letter between [a-z]\n",
    "2. At least 1 number between [0-9]\n",
    "1. At least 1 letter between [A-Z]\n",
    "3. At least 1 character from [$#@]\n",
    "4. Minimum length of transaction password: 6\n",
    "5. Maximum length of transaction password: 12\n",
    "Your program should accept a sequence of comma separated passwords and will\n",
    "check them according to the above criteria. Passwords that match the criteria\n",
    "are to be printed, each separated by a comma.\n",
    "Example\n",
    "If the following passwords are given as input to the program:\n",
    "ABd1234@1,a F1#,2w3E*,2We3345\n",
    "Then, the output of the program should be:\n",
    "ABd1234@1\n",
    "\"\"\"\n",
    "\n",
    "inpt = input()\n",
    "\n",
    "l = [i for i in inpt.split(\",\")]\n",
    "\n",
    "for a in l:\n",
    "    if len(a)<6 or len(a)>12:\n",
    "        continue        \n",
    "    elif re.search(\"[a-z]\",a) is None:\n",
    "        continue\n",
    "    elif re.search(\"[A-Z]\",a) is None:\n",
    "        continue\n",
    "    elif re.search(\"[0-9]\",a) is None:\n",
    "        continue\n",
    "    elif re.search(\"[$#@]\",a) is None:\n",
    "        continue\n",
    "    else:\n",
    "        print(a)\n",
    "        \n",
    "    "
   ]
  },
  {
   "cell_type": "code",
   "execution_count": null,
   "metadata": {},
   "outputs": [],
   "source": [
    "# Question: 17\n",
    "\"\"\"\n",
    "A robot moves in a plane starting from the original point (0,0). The robot can move\n",
    "toward UP, DoWN, LEFT and RIGHT with a given steps. The trace of robot movement is shown as the following:\n",
    "UP 5\n",
    "DOWN 3\n",
    "LEFT 3\n",
    "RIGHT 2\n",
    "\"\"\"\n",
    "\n",
    "x,y = 0,0\n",
    "while True:\n",
    "    \n",
    "    d = [i for i in input().split(\" \")]\n",
    "    if len(d)>1:\n",
    "        if d[0].lower() == \"up\":\n",
    "            y += int(d[1])\n",
    "\n",
    "        elif d[0].lower() == \"down\":\n",
    "            y -= int(d[1])\n",
    "\n",
    "        elif d[0].lower() == \"left\":\n",
    "            x -= int(d[1])\n",
    "\n",
    "        elif d[0].lower() == \"right\":\n",
    "            x += int(d[1])\n",
    "    else:\n",
    "        result = math.sqrt(x**2 + y**2)\n",
    "        print(round(result))\n",
    "        break"
   ]
  },
  {
   "cell_type": "code",
   "execution_count": null,
   "metadata": {},
   "outputs": [],
   "source": [
    "# Question: 18\n",
    "\"\"\"\n",
    "write a program to compute the frequency of the words form the input. The output should\n",
    "after sorting the key alphanumerically.\n",
    "suppose the following input is supplied to the program:\n",
    "New to Python or choosing between Python 2 and Python 3? Read Python 2 or Python 3.\n",
    "\n",
    "\"\"\"\n",
    "\n",
    "a = input()\n",
    "x = sorted(a.split(\" \"))\n",
    "l = []\n",
    "for i in x:\n",
    "    if i not in l:\n",
    "        l.append(i)\n",
    "        print(f\"{i}:{x.count(i)}\")\n",
    "        "
   ]
  },
  {
   "cell_type": "code",
   "execution_count": null,
   "metadata": {},
   "outputs": [],
   "source": [
    "# Question: 19\n",
    "\"\"\"\n",
    "Write a method which can calculate square value of number\n",
    "Hints:\n",
    "Using the ** operator\n",
    "\"\"\"\n",
    "x = int(input())\n",
    "print(f\"square of the {x} is: {x**2}\")"
   ]
  },
  {
   "cell_type": "code",
   "execution_count": null,
   "metadata": {},
   "outputs": [],
   "source": [
    "# Question: 20\n",
    "\"\"\"\n",
    "Define a class, which have a class paramter and have a same instance paramter.\n",
    "\n",
    "\"\"\"\n",
    "\n",
    "class Parameter:\n",
    "    def __init__(self,side):\n",
    "        self.side = side\n",
    "        \n",
    "    def square(self):\n",
    "        return 4*self.side\n",
    "    \n",
    "a = Parameter(4)\n",
    "a.square()"
   ]
  },
  {
   "cell_type": "code",
   "execution_count": null,
   "metadata": {},
   "outputs": [],
   "source": [
    "# Question: 21\n",
    "\"\"\"\n",
    "Define a function that can convert a integer into a string and print it in console.\n",
    "\"\"\"\n",
    "\n",
    "def int_to_str(i):\n",
    "    return str(i)\n",
    "\n",
    "int_to_str(100)"
   ]
  },
  {
   "cell_type": "code",
   "execution_count": null,
   "metadata": {},
   "outputs": [],
   "source": [
    "# Question: 22\n",
    "\"\"\"\n",
    "Define a function that can recieve two integral numbers in string form and compute their\n",
    "sum and then print it in console.\n",
    "\"\"\"\n",
    "\n",
    "def sum(s):\n",
    "    n = s.split(\" \")\n",
    "    return int(n[0]) + int(n[1])\n",
    "\n",
    "\n",
    "s = input()\n",
    "sum(s)"
   ]
  },
  {
   "cell_type": "code",
   "execution_count": null,
   "metadata": {},
   "outputs": [],
   "source": [
    "# Question: 23\n",
    "\"\"\"\n",
    "Define a function that can accept two strings as input and print the string with maximun length in console. If two strings have t\n",
    "he same length, then the function should print all strings line by line.\n",
    "\"\"\"\n",
    "def max_length(a,b):\n",
    "    if len(a)> len(b):\n",
    "        print(a)\n",
    "    elif len(b)>len(a):\n",
    "        print(b)\n",
    "    else:\n",
    "        print(a)\n",
    "        print(b)\n",
    "\n",
    "a = input(\"a: \")\n",
    "b = input(\"b: \")\n",
    "\n",
    "max_length(a,b)"
   ]
  },
  {
   "cell_type": "code",
   "execution_count": null,
   "metadata": {},
   "outputs": [],
   "source": [
    "# Question: 24\n",
    "\"\"\"\n",
    "Define a function which can print a dictionary where the keys are numbers\n",
    "between 1 and 3( both included) and the values are square of keys.\n",
    "\"\"\"\n",
    "\n",
    "{k:k**2 for k in range(1,4)}"
   ]
  },
  {
   "cell_type": "code",
   "execution_count": null,
   "metadata": {},
   "outputs": [],
   "source": [
    "# Question: 25A\n",
    "\"\"\"\n",
    "Define a function which can print a dictionary where the keys are numbers\n",
    "between 1 and 20 (both included) and  the values are square of keys.\n",
    "\"\"\"\n",
    "\n",
    "{k:k**2 for k in range(1,21)}"
   ]
  },
  {
   "cell_type": "code",
   "execution_count": null,
   "metadata": {},
   "outputs": [],
   "source": [
    "# Question: 25B\n",
    "\"\"\"\n",
    "Write a program which accepts a string as input to print \"Yes\" if the string is \"yes\" \n",
    "or \"YES\", otherwise print \"No\".\n",
    "\"\"\"\n",
    "a = input()\n",
    "if a in [\"Yes\",\"yes\",\"YES\"]:\n",
    "    print('Yes')\n",
    "else:\n",
    "    print(\"NO\")"
   ]
  },
  {
   "cell_type": "code",
   "execution_count": null,
   "metadata": {},
   "outputs": [],
   "source": [
    "# Question: 26\n",
    "\"\"\"\n",
    "Write a program which can filter even numbers in list by using filter funtion.\n",
    "The lsit is: [1,2,3,4,5,6,7,8,9,10]\n",
    "\n",
    "\"\"\"\n",
    "l = list(range(1,11))\n",
    "result = list(filter((lambda x: x%2 == 0),l))\n",
    "print(result)"
   ]
  },
  {
   "cell_type": "code",
   "execution_count": null,
   "metadata": {},
   "outputs": [],
   "source": [
    "# Question: 27\n",
    "\"\"\"\n",
    "Write a program which can map() to make a list whose element are square of elements in\n",
    "[1,2,3,4,5,6,7,8,9,10]\n",
    "\"\"\"\n",
    "l = list(range(1,11))\n",
    "result = list(map((lambda x:x**2),l))\n",
    "result"
   ]
  },
  {
   "cell_type": "code",
   "execution_count": null,
   "metadata": {},
   "outputs": [],
   "source": [
    "# Question: 28\n",
    "\"\"\"\n",
    "Write a program which can map() and filter() to make a list whose elements are square fo even\n",
    "number in [1,2,3,4,5,6,7,8,9,10]\n",
    "\"\"\"\n",
    "l = list(range(1,11))\n",
    "result = list(map((lambda i:i**2),(filter((lambda x:x%2==0),l))))\n",
    "result\n",
    "\n",
    "#or\n",
    "# [i**2 for i in l if i%2==0]"
   ]
  },
  {
   "cell_type": "code",
   "execution_count": null,
   "metadata": {},
   "outputs": [],
   "source": []
  }
 ],
 "metadata": {
  "kernelspec": {
   "display_name": "Python 3",
   "language": "python",
   "name": "python3"
  },
  "language_info": {
   "codemirror_mode": {
    "name": "ipython",
    "version": 3
   },
   "file_extension": ".py",
   "mimetype": "text/x-python",
   "name": "python",
   "nbconvert_exporter": "python",
   "pygments_lexer": "ipython3",
   "version": "3.8.3"
  }
 },
 "nbformat": 4,
 "nbformat_minor": 4
}
